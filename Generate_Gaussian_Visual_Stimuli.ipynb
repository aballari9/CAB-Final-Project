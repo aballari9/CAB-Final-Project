{
 "cells": [
  {
   "cell_type": "code",
   "execution_count": 10,
   "metadata": {},
   "outputs": [],
   "source": [
    "import numpy as np\n",
    "from pathlib import Path\n",
    "import tqdm\n",
    "import math"
   ]
  },
  {
   "cell_type": "code",
   "execution_count": 11,
   "metadata": {},
   "outputs": [],
   "source": [
    "# Load gaussian cluster data\n",
    "def load_gaussian_clusters(file_path):\n",
    "    \n",
    "    raw_data_path = list(Path(file_path).iterdir())\n",
    "\n",
    "    data = []\n",
    "    file_names = []\n",
    "\n",
    "    for path in raw_data_path:\n",
    "        data.append(np.load(path))\n",
    "        file_names.append(str(path).split('/')[-1][0:-4])\n",
    "    \n",
    "    return data, file_names\n",
    "\n",
    "def normalize_axis(v, max_width):\n",
    "    if np.min(v) < 0:\n",
    "        v = v + -np.min(v)\n",
    "    if np.max(v) > max_width:\n",
    "        v = v * max_width / np.max(v)\n",
    "    return v\n",
    "def normalize(stim):\n",
    "    stim = np.copy(stim)\n",
    "    stim[:, 0] = normalize_axis(stim[:, 0], 800)\n",
    "    stim[:, 1] = normalize_axis(stim[:, 1], 500)\n",
    "    return stim"
   ]
  },
  {
   "cell_type": "code",
   "execution_count": 12,
   "metadata": {},
   "outputs": [],
   "source": [
    "import cairo\n",
    "def save_to_png(points, path):\n",
    "    with cairo.ImageSurface(\n",
    "        cairo.FORMAT_ARGB32, 800, 500\n",
    "    ) as surface:\n",
    "        ctx = cairo.Context(surface)\n",
    "        ctx.set_source_rgb(1, 1, 1)\n",
    "        ctx.rectangle(0, 0, 800, 500)\n",
    "        ctx.fill()\n",
    "        ctx.set_source_rgb(0, 0, 0)\n",
    "            \n",
    "        for i in range(points.shape[0]):\n",
    "            x, y, _ = points[i]\n",
    "            ctx.arc(x, y, 5, 0, math.pi * 2)\n",
    "            ctx.fill()\n",
    "        surface.write_to_png(path)"
   ]
  },
  {
   "cell_type": "code",
   "execution_count": 13,
   "metadata": {},
   "outputs": [
    {
     "name": "stderr",
     "output_type": "stream",
     "text": [
      "100%|██████████| 18/18 [00:00<00:00, 71.72it/s]\n"
     ]
    }
   ],
   "source": [
    "data, file_names = load_gaussian_clusters(\"stimuli/obvious_gaussian_clusters\")\n",
    "cluster_save_dir = \"stimuli/normalized_gaussian_clusters/\"\n",
    "image_save_dir = \"stimuli/normalized_gaussian_visual_stimuli/\"\n",
    "\n",
    "\n",
    "for i, stim in enumerate(tqdm.tqdm(data)):\n",
    "    stim = normalize(stim)\n",
    "    stim = np.round(stim).astype(int)\n",
    "    \n",
    "    f_name = file_names[i]\n",
    "    \n",
    "    np.save(arr=stim, file=cluster_save_dir + f_name + '.npy')\n",
    "    save_to_png(stim, image_save_dir + f_name + '.png')"
   ]
  },
  {
   "cell_type": "code",
   "execution_count": null,
   "metadata": {},
   "outputs": [],
   "source": []
  }
 ],
 "metadata": {
  "kernelspec": {
   "display_name": "Python 3",
   "language": "python",
   "name": "python3"
  },
  "language_info": {
   "codemirror_mode": {
    "name": "ipython",
    "version": 3
   },
   "file_extension": ".py",
   "mimetype": "text/x-python",
   "name": "python",
   "nbconvert_exporter": "python",
   "pygments_lexer": "ipython3",
   "version": "3.9.4"
  }
 },
 "nbformat": 4,
 "nbformat_minor": 4
}
