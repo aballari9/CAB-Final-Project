{
 "cells": [
  {
   "cell_type": "code",
   "execution_count": 2,
   "metadata": {},
   "outputs": [],
   "source": [
    "import numpy as np\n",
    "from pathlib import Path\n",
    "import tqdm"
   ]
  },
  {
   "cell_type": "code",
   "execution_count": 11,
   "metadata": {},
   "outputs": [],
   "source": [
    "# Load gaussian cluster data\n",
    "def load_gaussian_clusters(file_path):\n",
    "    \n",
    "    raw_data_path = list(Path(file_path).iterdir())\n",
    "\n",
    "    data = []\n",
    "    file_names = []\n",
    "\n",
    "    for path in raw_data_path:\n",
    "        data.append(np.load(path))\n",
    "        file_names.(str(path).split('/')[-1][0:-4])\n",
    "    \n",
    "    return data, file_names\n",
    "\n",
    "def normalize_axis(v, max_width):\n",
    "    if np.min(v) < 0:\n",
    "        v = v + -np.min(v)\n",
    "    if np.max(v) > max_width:\n",
    "        v = v * max_width / np.max(v)\n",
    "    return v\n",
    "def normalize(stim):\n",
    "    stim = np.copy(stim)\n",
    "    stim[:, 0] = normalize_axis(stim[:, 0], 800)\n",
    "    stim[:, 1] = normalize_axis(stim[:, 1], 500)\n",
    "    return stim"
   ]
  },
  {
   "cell_type": "code",
   "execution_count": null,
   "metadata": {},
   "outputs": [],
   "source": [
    "import cairo\n",
    "def save_to_png(points, path):\n",
    "    with cairo.ImageSurface(\n",
    "        cairo.FORMAT_ARGB32, CANVAS_WIDTH, CANVAS_HEIGHT\n",
    "    ) as surface:\n",
    "        ctx = cairo.Context(surface)\n",
    "        ctx.set_source_rgb(1, 1, 1)\n",
    "        ctx.rectangle(0, 0, 800, 500)\n",
    "        ctx.fill()\n",
    "        ctx.set_source_rgb(0, 0, 0)\n",
    "            \n",
    "        for i in range(points.shape[0]):\n",
    "            x, y, _ = points[i]\n",
    "            ctx.arc(x, y, 5, 0, math.pi * 2)\n",
    "            ctx.fill()\n",
    "        surface.write_to_png(path)"
   ]
  },
  {
   "cell_type": "code",
   "execution_count": 12,
   "metadata": {},
   "outputs": [
    {
     "name": "stdout",
     "output_type": "stream",
     "text": [
      "path:  bf7e45ec-ecc6-42dd-9607-f07e496e8466\n",
      "path:  d1ac8c65-abc1-4733-8bb5-62617d18f8e3\n",
      "path:  895d104c-813e-418f-9e45-749ce4981a52\n",
      "path:  9ec6f8c5-8881-445d-910b-17f40dc1920c\n",
      "path:  9d2e1b83-5f0b-4fda-8671-160c5fa8fed6\n",
      "path:  d273000a-b268-4596-866d-f5b3240ea201\n",
      "path:  8dfd136f-3211-4b62-903b-cc31206ad6e9\n",
      "path:  a7de7df0-c3ab-49df-b427-dc78d0ba3200\n",
      "path:  3179a79d-2778-4dcc-892e-a64ded7136ae\n",
      "path:  face4f91-6abd-48e6-b0fa-0c04630080f8\n",
      "path:  5df2f663-8a7e-47f2-8227-21bc668f5ed3\n",
      "path:  71651a6c-baf9-4215-87ba-8c76f54e4fd8\n",
      "path:  edb66ead-ccdb-420f-9cd5-d55f2a5ab107\n",
      "path:  d84bf35e-a7ce-4cae-8b27-d72493c12aad\n",
      "path:  13703bf5-a5cd-4f89-aea8-e0fabf9886ed\n",
      "path:  79e41c47-fc89-414b-b4f5-525168aa31c4\n",
      "path:  dbd36574-d564-46ce-a199-0a83b42c1ce6\n",
      "path:  9f8c4e55-de85-4652-8013-1f2c19ca4dba\n",
      "<class 'list'>\n",
      "# of Stimuli:  18\n",
      "Stimuli Shape:  (20, 3)\n",
      "[[ 98.60603783 -43.90284575   0.        ]\n",
      " [ 70.0840394   40.83154482   0.        ]\n",
      " [ 17.53391517 -21.74245519   0.        ]\n",
      " [ 77.40730313  30.693461     0.        ]\n",
      " [120.887154     1.57702379   0.        ]\n",
      " [351.62961385 421.04413856   1.        ]\n",
      " [301.83708164 426.47817393   1.        ]\n",
      " [321.51381632 357.61189924   1.        ]\n",
      " [341.73173491 421.97336401   1.        ]\n",
      " [285.64777874 448.38696407   1.        ]\n",
      " [454.89632705 445.48883336   2.        ]\n",
      " [416.35833093 521.48517396   2.        ]\n",
      " [445.8302896  495.17563458   2.        ]\n",
      " [435.85274339 494.4795388    2.        ]\n",
      " [427.12349264 478.19393713   2.        ]\n",
      " [105.40302897 594.51200739   3.        ]\n",
      " [159.27082579 604.11618704   3.        ]\n",
      " [160.9520115  602.71282326   3.        ]\n",
      " [197.68958517 567.96367837   3.        ]\n",
      " [118.51372826 627.44693392   3.        ]]\n",
      "[[ 99   0   0]\n",
      " [ 70  63   0]\n",
      " [ 18  17   0]\n",
      " [ 77  56   0]\n",
      " [121  34   0]\n",
      " [352 346   1]\n",
      " [302 350   1]\n",
      " [322 299   1]\n",
      " [342 347   1]\n",
      " [286 367   1]\n",
      " [455 364   2]\n",
      " [416 421   2]\n",
      " [446 401   2]\n",
      " [436 401   2]\n",
      " [427 389   2]\n",
      " [105 475   3]\n",
      " [159 483   3]\n",
      " [161 482   3]\n",
      " [198 456   3]\n",
      " [119 500   3]]\n"
     ]
    }
   ],
   "source": [
    "data, file_names = load_gaussian_clusters(\"stimuli/obvious_gaussian_clusters\")\n",
    "cluster_save_dir = \"stimuli/normalized_gaussian_clusters/\"\n",
    "image_save_dir = \"stimuli/normalized_gaussian_visual_stimuli/\"\n",
    "\n",
    "\n",
    "for i, stim in enumerate(tqdm(data)):\n",
    "    stim = normalize(stim)\n",
    "    stim = np.round(stim).astype(int)\n",
    "    \n",
    "    f_name = file_names[i]\n",
    "    \n",
    "    np.save(arr=stim, file=cluster_save_dir + f_name + '.npy')\n",
    "    save_to_png(stim, image_save_dir + f_name + '.png')"
   ]
  },
  {
   "cell_type": "code",
   "execution_count": null,
   "metadata": {},
   "outputs": [],
   "source": []
  }
 ],
 "metadata": {
  "kernelspec": {
   "display_name": "Python 3",
   "language": "python",
   "name": "python3"
  },
  "language_info": {
   "codemirror_mode": {
    "name": "ipython",
    "version": 3
   },
   "file_extension": ".py",
   "mimetype": "text/x-python",
   "name": "python",
   "nbconvert_exporter": "python",
   "pygments_lexer": "ipython3",
   "version": "3.7.9"
  }
 },
 "nbformat": 4,
 "nbformat_minor": 4
}
