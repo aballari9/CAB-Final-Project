{
 "cells": [
  {
   "cell_type": "code",
   "execution_count": 96,
   "id": "charitable-handbook",
   "metadata": {},
   "outputs": [],
   "source": [
    "import numpy as np\n",
    "from pathlib import Path\n",
    "from matplotlib import pyplot as plt\n",
    "from matplotlib import cm\n",
    "import utility\n",
    "import pandas as pd\n",
    "import json\n",
    "\n",
    "# O(n)\n",
    "def bottomk_indices(v, k):\n",
    "    return np.argpartition(v, k)[:k]\n",
    "\n",
    "def not_indices(indices, shape):\n",
    "    new_indices = np.ones(shape, dtype=bool)\n",
    "    new_indices[indices] = False\n",
    "    return new_indices\n",
    "\n",
    "def normalize(x):\n",
    "    min = np.min(x)\n",
    "    max = np.max(x)\n",
    "    if min == max:\n",
    "        return x\n",
    "    return ((x - min) /\n",
    "            (max - min))\n",
    "\n",
    "def clamp(x):\n",
    "    return np.clip(x, 0, 1)"
   ]
  },
  {
   "cell_type": "code",
   "execution_count": 12,
   "id": "unknown-seeker",
   "metadata": {},
   "outputs": [],
   "source": [
    "raw_data_paths = list(Path(\"../stimuli/obvious_gaussian_clusters\").iterdir())\n",
    "raw_data_path = list(Path(\"../stimuli/obvious_gaussian_clusters\").iterdir())[9]"
   ]
  },
  {
   "cell_type": "code",
   "execution_count": 3,
   "id": "compatible-wisconsin",
   "metadata": {},
   "outputs": [],
   "source": [
    "raw_data = np.load(raw_data_path)"
   ]
  },
  {
   "cell_type": "markdown",
   "id": "informative-jaguar",
   "metadata": {},
   "source": [
    "## Structure of data\n",
    "\n",
    "* x\n",
    "* y\n",
    "* cluster_number"
   ]
  },
  {
   "cell_type": "code",
   "execution_count": 4,
   "id": "ultimate-prime",
   "metadata": {
    "scrolled": true
   },
   "outputs": [
    {
     "name": "stdout",
     "output_type": "stream",
     "text": [
      "Shape: (20, 3)\n"
     ]
    },
    {
     "data": {
      "text/plain": [
       "array([[408.53980811,  88.21579982,   0.        ],\n",
       "       [316.3766974 ,  56.95052603,   0.        ],\n",
       "       [389.33152022,  44.51111297,   0.        ],\n",
       "       [399.01064351,  27.12535716,   0.        ],\n",
       "       [355.07352117,  48.4739435 ,   0.        ],\n",
       "       [451.0791624 , 727.97922399,   1.        ],\n",
       "       [496.69911714, 726.94652974,   1.        ],\n",
       "       [442.88615495, 663.5421761 ,   1.        ],\n",
       "       [445.22390949, 718.08101281,   1.        ],\n",
       "       [442.50009505, 667.15766348,   1.        ]])"
      ]
     },
     "execution_count": 4,
     "metadata": {},
     "output_type": "execute_result"
    }
   ],
   "source": [
    "print(\"Shape: {}\".format(raw_data.shape))\n",
    "raw_data[:10]"
   ]
  },
  {
   "cell_type": "code",
   "execution_count": 5,
   "id": "noted-investing",
   "metadata": {},
   "outputs": [],
   "source": [
    "raw_points = raw_data[:, :2]"
   ]
  },
  {
   "cell_type": "code",
   "execution_count": 6,
   "id": "worse-renaissance",
   "metadata": {},
   "outputs": [],
   "source": [
    "# parameters\n",
    "number_of_neurons_in_network = 100\n",
    "bottomk_ratio = 0.1\n",
    "learning_rate = 0.1\n",
    "training_iterations = 14"
   ]
  },
  {
   "cell_type": "code",
   "execution_count": 69,
   "id": "fantastic-collection",
   "metadata": {},
   "outputs": [],
   "source": [
    "class Network:\n",
    "    \n",
    "    def __init__(self, D):\n",
    "        # D are the values of the neurons\n",
    "        self.D = D\n",
    "        # W are the weights of the neurons\n",
    "        self.W = np.ones(D.shape[0]) / 2\n",
    "        self.bottomk_number = round(bottomk_ratio * number_of_neurons_in_network)\n",
    "    \n",
    "    @classmethod\n",
    "    def generate_initial(cls, X):\n",
    "        n_dims = X.shape[1]\n",
    "        ranges = []\n",
    "        for col_idx in range(n_dims):\n",
    "            col_values = X[:, col_idx]\n",
    "            min = np.min(col_values)\n",
    "            max = np.max(col_values)\n",
    "            ranges.append((min, max))\n",
    "\n",
    "        final_transposed = []\n",
    "        for min, max in ranges:\n",
    "            final_transposed.append(np.random.uniform(min, max, number_of_neurons_in_network))\n",
    "\n",
    "        return cls(np.array(final_transposed).T)\n",
    "    \n",
    "    def plot(self, X, edge=True):\n",
    "        fig, ax = plt.subplots()\n",
    "        ax.scatter(X[:, 0], X[:, 1], color=\"red\")\n",
    "        facecolors = np.array([0, 1, 0]) * np.ones(len(self.W)).reshape(len(self.W), 1).astype('int')\n",
    "        facecolors = np.hstack((facecolors, self.W.reshape(-1, 1)))\n",
    "        ax.scatter(self.D[:, 0], self.D[:, 1], facecolor=facecolors, edgecolor='b' if edge else None)\n",
    "        return ax\n",
    "    \n",
    "    def train_iter(self, raw_points):\n",
    "                # experimental training loop\n",
    "        shape = raw_points.shape\n",
    "\n",
    "         # inhibition amount\n",
    "\n",
    "        inhibition_ratio  = 1 - self.get_raw_activation()\n",
    "        self.bottomk_number = round((bottomk_ratio * number_of_neurons_in_network) +\n",
    "                                    (bottomk_ratio * number_of_neurons_in_network) *\n",
    "                                    inhibition_ratio)\n",
    "\n",
    "        # print(((bottomk_ratio * number_of_neurons_in_network) ** inhibition_ratio) / (bottomk_ratio * number_of_neurons_in_network))\n",
    "\n",
    "        # data point similarity\n",
    "        for data_point in raw_points:\n",
    "            difference_vectors =  self.D - data_point.reshape(1, shape[1])\n",
    "            euclidean_distances = np.linalg.norm(difference_vectors, ord=2, axis=1)\n",
    "            nearby_indices = bottomk_indices(euclidean_distances, self.bottomk_number)\n",
    "            close_neurons_distances = euclidean_distances[nearby_indices]\n",
    "            \n",
    "            # hebbian part, move them closer, this is very important\n",
    "            self.D[nearby_indices] = self.D[nearby_indices] - learning_rate * self.W[nearby_indices].reshape(-1, 1) * difference_vectors[nearby_indices]\n",
    "            \n",
    "            # reduce weights of far away points, this seems fairly important to kill neurons that are not doing anything\n",
    "            weight_change_reduction_indices = not_indices(nearby_indices, self.W.shape)\n",
    "            self.W[weight_change_reduction_indices] = clamp(self.W[weight_change_reduction_indices] - 0.01)\n",
    "\n",
    "            # increase weight of the closest point\n",
    "            #i = np.argmin(euclidean_distances)\n",
    "            #self.W[i] = clamp(self.W[i] + 0.2)\n",
    "            self.W[nearby_indices] = clamp(self.W[nearby_indices] + self.W[nearby_indices] * 0.5)\n",
    "            \n",
    "\n",
    "            \n",
    "            # tan(x) based inhibition\n",
    "            #normalized_neuron_distances = normalize(close_neurons_distances)\n",
    "        #     weight_changes = np.tan(normalized_neuron_distances - 0.5) * self.W[nearby_indices]\n",
    "        #     print(weight_changes)\n",
    "        #     self.W[nearby_indices] = clamp(self.W[nearby_indices] + weight_changes)\n",
    "            \n",
    "        # neuron proximity based inhibition\n",
    "        for idx in range(0, len(self.D)):\n",
    "            neuron = self.D[idx]\n",
    "            neuron_weight = self.W[idx]\n",
    "            difference_vectors_from_other_neurons = self.D - neuron.reshape(1, shape[1])\n",
    "            euclidean_distances = np.linalg.norm(difference_vectors_from_other_neurons, ord=2, axis=1)\n",
    "            # plus one because the neuron itself is in the dataset\n",
    "            near_neuron_indices = bottomk_indices(euclidean_distances, self.bottomk_number + 1)\n",
    "            weight_change_neuron_indicies = near_neuron_indices[near_neuron_indices != idx]\n",
    "            normalized_distances = normalize(euclidean_distances[weight_change_neuron_indicies])\n",
    "            weight_changes = (1 - normalized_distances) * neuron_weight\n",
    "            self.W[weight_change_neuron_indicies] = clamp(self.W[weight_change_neuron_indicies] - weight_changes)\n",
    "\n",
    "                \n",
    "          \n",
    "        # pruning step\n",
    "        # neurons_to_prune = []\n",
    "        # for idx in range(0, len(self.D)):\n",
    "        #     if self.W[idx] < 0.001:\n",
    "        #         neurons_to_prune.append(idx)\n",
    "\n",
    "        #neurons_to_keep = not_indices(neurons_to_prune, self.W.shape)\n",
    "        #self.D = self.D[neurons_to_keep]\n",
    "        #self.W = self.W[neurons_to_keep]\n",
    "        #bottomk_number = round(len(self.D) * bottomk_ratio)\n",
    "        #bottomk_number = round(bottomk_number * (1 - bottomk_ratio))\n",
    "            \n",
    "            # reduce weights of nearby points\n",
    "            # self.W[nearby_indices] = clamp(self.W[nearby_indices] - (0.01 * inhibition_ratio), 0, 1)\n",
    "            \n",
    "    def get_cluster_representation(self, raw_points):\n",
    "        cluster_centroid_values = self.D[self.W > 0.001]\n",
    "        cluster_indicies = []\n",
    "        for point in raw_points:\n",
    "            euclidean_distances = np.linalg.norm(point.reshape(1, -1) - cluster_centroid_values, ord=2, axis=1)\n",
    "            cluster_indicies.append(np.argmin(euclidean_distances))\n",
    "        return np.hstack((raw_points, np.array(cluster_indicies).reshape(-1, 1)))\n",
    "\n",
    "    \n",
    "    def get_raw_activation(self):\n",
    "        return np.sum(self.W) / self.W.shape[0]\n",
    "    \n",
    "    def fit(self, raw_points):\n",
    "        for _ in range(training_iterations):\n",
    "            self.train_iter(raw_points)\n",
    "        return self.get_cluster_representation(raw_points)\n",
    "    \n",
    "    def __repr__(self):\n",
    "        return f\"<Network D={len(self.D)}>\"\n"
   ]
  },
  {
   "cell_type": "code",
   "execution_count": 8,
   "id": "broadband-reducing",
   "metadata": {
    "scrolled": false
   },
   "outputs": [
    {
     "data": {
      "text/plain": [
       "<AxesSubplot:>"
      ]
     },
     "execution_count": 8,
     "metadata": {},
     "output_type": "execute_result"
    },
    {
     "data": {
      "image/png": "[encoded data removed]",
      "text/plain": [
       "<Figure size 432x288 with 1 Axes>"
      ]
     },
     "metadata": {
      "needs_background": "light"
     },
     "output_type": "display_data"
    }
   ],
   "source": [
    "network = Network.generate_initial(raw_points)\n",
    "network.plot(raw_points)"
   ]
  },
  {
   "cell_type": "code",
   "execution_count": 9,
   "id": "collective-natural",
   "metadata": {
    "scrolled": false
   },
   "outputs": [
    {
     "data": {
      "text/plain": [
       "<AxesSubplot:>"
      ]
     },
     "execution_count": 9,
     "metadata": {},
     "output_type": "execute_result"
    },
    {
     "data": {
      "image/png": "[encoded data removed]",
      "text/plain": [
       "<Figure size 432x288 with 1 Axes>"
      ]
     },
     "metadata": {
      "needs_background": "light"
     },
     "output_type": "display_data"
    }
   ],
   "source": [
    "for _ in range(training_iterations):\n",
    "    network.train_iter(raw_points)\n",
    "\n",
    "network.plot(raw_points, edge=False)"
   ]
  },
  {
   "cell_type": "code",
   "execution_count": 10,
   "id": "lyric-coral",
   "metadata": {},
   "outputs": [
    {
     "data": {
      "text/plain": [
       "1.0"
      ]
     },
     "execution_count": 10,
     "metadata": {},
     "output_type": "execute_result"
    }
   ],
   "source": [
    "utility.calc_fowlkes_mallows(network.get_cluster_representation(raw_points), raw_data)"
   ]
  },
  {
   "cell_type": "code",
   "execution_count": 11,
   "id": "proof-bubble",
   "metadata": {},
   "outputs": [
    {
     "data": {
      "text/plain": [
       "array([[408.53980811,  88.21579982,   0.        ],\n",
       "       [316.3766974 ,  56.95052603,   0.        ],\n",
       "       [389.33152022,  44.51111297,   0.        ],\n",
       "       [399.01064351,  27.12535716,   0.        ],\n",
       "       [355.07352117,  48.4739435 ,   0.        ],\n",
       "       [451.0791624 , 727.97922399,   1.        ],\n",
       "       [496.69911714, 726.94652974,   1.        ],\n",
       "       [442.88615495, 663.5421761 ,   1.        ],\n",
       "       [445.22390949, 718.08101281,   1.        ],\n",
       "       [442.50009505, 667.15766348,   1.        ],\n",
       "       [273.56383427, 390.25908282,   2.        ],\n",
       "       [349.39722046, 406.8242298 ,   2.        ],\n",
       "       [358.61354637, 387.19187408,   2.        ],\n",
       "       [279.20381163, 390.94809632,   2.        ],\n",
       "       [305.18165839, 410.90402633,   2.        ],\n",
       "       [748.12077302, 111.74863732,   3.        ],\n",
       "       [723.54450717, 128.63455631,   3.        ],\n",
       "       [728.71086338,  97.6115543 ,   3.        ],\n",
       "       [717.56625883, 101.80675677,   3.        ],\n",
       "       [738.52401525, 131.97128888,   3.        ]])"
      ]
     },
     "execution_count": 11,
     "metadata": {},
     "output_type": "execute_result"
    }
   ],
   "source": [
    "utility.conv_mat_representation(utility.conv_list_representation(raw_data))"
   ]
  },
  {
   "cell_type": "code",
   "execution_count": 75,
   "id": "retired-integration",
   "metadata": {},
   "outputs": [
    {
     "data": {
      "text/html": [
       "<div>\n",
       "<style scoped>\n",
       "    .dataframe tbody tr th:only-of-type {\n",
       "        vertical-align: middle;\n",
       "    }\n",
       "\n",
       "    .dataframe tbody tr th {\n",
       "        vertical-align: top;\n",
       "    }\n",
       "\n",
       "    .dataframe thead th {\n",
       "        text-align: right;\n",
       "    }\n",
       "</style>\n",
       "<table border=\"1\" class=\"dataframe\">\n",
       "  <thead>\n",
       "    <tr style=\"text-align: right;\">\n",
       "      <th></th>\n",
       "      <th>filename</th>\n",
       "      <th>fm</th>\n",
       "      <th>number_of_clusters</th>\n",
       "    </tr>\n",
       "  </thead>\n",
       "  <tbody>\n",
       "    <tr>\n",
       "      <th>0</th>\n",
       "      <td>../stimuli/obvious_gaussian_clusters/3179a79d-...</td>\n",
       "      <td>0.921954</td>\n",
       "      <td>5</td>\n",
       "    </tr>\n",
       "    <tr>\n",
       "      <th>1</th>\n",
       "      <td>../stimuli/obvious_gaussian_clusters/dbd36574-...</td>\n",
       "      <td>1.000000</td>\n",
       "      <td>4</td>\n",
       "    </tr>\n",
       "    <tr>\n",
       "      <th>2</th>\n",
       "      <td>../stimuli/obvious_gaussian_clusters/face4f91-...</td>\n",
       "      <td>1.000000</td>\n",
       "      <td>4</td>\n",
       "    </tr>\n",
       "    <tr>\n",
       "      <th>3</th>\n",
       "      <td>../stimuli/obvious_gaussian_clusters/a7de7df0-...</td>\n",
       "      <td>1.000000</td>\n",
       "      <td>4</td>\n",
       "    </tr>\n",
       "    <tr>\n",
       "      <th>4</th>\n",
       "      <td>../stimuli/obvious_gaussian_clusters/9d2e1b83-...</td>\n",
       "      <td>1.000000</td>\n",
       "      <td>4</td>\n",
       "    </tr>\n",
       "    <tr>\n",
       "      <th>5</th>\n",
       "      <td>../stimuli/obvious_gaussian_clusters/71651a6c-...</td>\n",
       "      <td>1.000000</td>\n",
       "      <td>4</td>\n",
       "    </tr>\n",
       "    <tr>\n",
       "      <th>6</th>\n",
       "      <td>../stimuli/obvious_gaussian_clusters/5df2f663-...</td>\n",
       "      <td>1.000000</td>\n",
       "      <td>4</td>\n",
       "    </tr>\n",
       "    <tr>\n",
       "      <th>7</th>\n",
       "      <td>../stimuli/obvious_gaussian_clusters/d273000a-...</td>\n",
       "      <td>1.000000</td>\n",
       "      <td>4</td>\n",
       "    </tr>\n",
       "    <tr>\n",
       "      <th>8</th>\n",
       "      <td>../stimuli/obvious_gaussian_clusters/9f8c4e55-...</td>\n",
       "      <td>1.000000</td>\n",
       "      <td>4</td>\n",
       "    </tr>\n",
       "    <tr>\n",
       "      <th>9</th>\n",
       "      <td>../stimuli/obvious_gaussian_clusters/79e41c47-...</td>\n",
       "      <td>1.000000</td>\n",
       "      <td>4</td>\n",
       "    </tr>\n",
       "    <tr>\n",
       "      <th>10</th>\n",
       "      <td>../stimuli/obvious_gaussian_clusters/895d104c-...</td>\n",
       "      <td>0.948683</td>\n",
       "      <td>5</td>\n",
       "    </tr>\n",
       "    <tr>\n",
       "      <th>11</th>\n",
       "      <td>../stimuli/obvious_gaussian_clusters/bf7e45ec-...</td>\n",
       "      <td>0.921954</td>\n",
       "      <td>5</td>\n",
       "    </tr>\n",
       "    <tr>\n",
       "      <th>12</th>\n",
       "      <td>../stimuli/obvious_gaussian_clusters/13703bf5-...</td>\n",
       "      <td>0.921954</td>\n",
       "      <td>5</td>\n",
       "    </tr>\n",
       "    <tr>\n",
       "      <th>13</th>\n",
       "      <td>../stimuli/obvious_gaussian_clusters/edb66ead-...</td>\n",
       "      <td>0.866025</td>\n",
       "      <td>6</td>\n",
       "    </tr>\n",
       "    <tr>\n",
       "      <th>14</th>\n",
       "      <td>../stimuli/obvious_gaussian_clusters/8dfd136f-...</td>\n",
       "      <td>1.000000</td>\n",
       "      <td>4</td>\n",
       "    </tr>\n",
       "    <tr>\n",
       "      <th>15</th>\n",
       "      <td>../stimuli/obvious_gaussian_clusters/d84bf35e-...</td>\n",
       "      <td>0.948683</td>\n",
       "      <td>5</td>\n",
       "    </tr>\n",
       "    <tr>\n",
       "      <th>16</th>\n",
       "      <td>../stimuli/obvious_gaussian_clusters/d1ac8c65-...</td>\n",
       "      <td>0.948683</td>\n",
       "      <td>5</td>\n",
       "    </tr>\n",
       "    <tr>\n",
       "      <th>17</th>\n",
       "      <td>../stimuli/obvious_gaussian_clusters/9ec6f8c5-...</td>\n",
       "      <td>0.866025</td>\n",
       "      <td>6</td>\n",
       "    </tr>\n",
       "  </tbody>\n",
       "</table>\n",
       "</div>"
      ],
      "text/plain": [
       "                                             filename        fm  \\\n",
       "0   ../stimuli/obvious_gaussian_clusters/3179a79d-...  0.921954   \n",
       "1   ../stimuli/obvious_gaussian_clusters/dbd36574-...  1.000000   \n",
       "2   ../stimuli/obvious_gaussian_clusters/face4f91-...  1.000000   \n",
       "3   ../stimuli/obvious_gaussian_clusters/a7de7df0-...  1.000000   \n",
       "4   ../stimuli/obvious_gaussian_clusters/9d2e1b83-...  1.000000   \n",
       "5   ../stimuli/obvious_gaussian_clusters/71651a6c-...  1.000000   \n",
       "6   ../stimuli/obvious_gaussian_clusters/5df2f663-...  1.000000   \n",
       "7   ../stimuli/obvious_gaussian_clusters/d273000a-...  1.000000   \n",
       "8   ../stimuli/obvious_gaussian_clusters/9f8c4e55-...  1.000000   \n",
       "9   ../stimuli/obvious_gaussian_clusters/79e41c47-...  1.000000   \n",
       "10  ../stimuli/obvious_gaussian_clusters/895d104c-...  0.948683   \n",
       "11  ../stimuli/obvious_gaussian_clusters/bf7e45ec-...  0.921954   \n",
       "12  ../stimuli/obvious_gaussian_clusters/13703bf5-...  0.921954   \n",
       "13  ../stimuli/obvious_gaussian_clusters/edb66ead-...  0.866025   \n",
       "14  ../stimuli/obvious_gaussian_clusters/8dfd136f-...  1.000000   \n",
       "15  ../stimuli/obvious_gaussian_clusters/d84bf35e-...  0.948683   \n",
       "16  ../stimuli/obvious_gaussian_clusters/d1ac8c65-...  0.948683   \n",
       "17  ../stimuli/obvious_gaussian_clusters/9ec6f8c5-...  0.866025   \n",
       "\n",
       "    number_of_clusters  \n",
       "0                    5  \n",
       "1                    4  \n",
       "2                    4  \n",
       "3                    4  \n",
       "4                    4  \n",
       "5                    4  \n",
       "6                    4  \n",
       "7                    4  \n",
       "8                    4  \n",
       "9                    4  \n",
       "10                   5  \n",
       "11                   5  \n",
       "12                   5  \n",
       "13                   6  \n",
       "14                   4  \n",
       "15                   5  \n",
       "16                   5  \n",
       "17                   6  "
      ]
     },
     "execution_count": 75,
     "metadata": {},
     "output_type": "execute_result"
    }
   ],
   "source": [
    "rows = []\n",
    "for path in raw_data_paths:\n",
    "    raw_data = np.load(path)\n",
    "    raw_points = raw_data[:,:2]\n",
    "    network = Network.generate_initial(raw_points)\n",
    "    cluster_rep = network.fit(raw_points)\n",
    "    rows.append((path, utility.calc_fowlkes_mallows(cluster_rep, raw_data), len(set(cluster_rep[:,2]))))\n",
    "df = pd.DataFrame.from_records(rows, columns = ('filename', 'fm', 'number_of_clusters'))\n",
    "df"
   ]
  },
  {
   "cell_type": "code",
   "execution_count": 87,
   "id": "following-malaysia",
   "metadata": {},
   "outputs": [
    {
     "name": "stderr",
     "output_type": "stream",
     "text": [
      "No handles with labels found to put in legend.\n"
     ]
    },
    {
     "data": {
      "image/png": "[encoded data removed]",
      "text/plain": [
       "<Figure size 432x288 with 1 Axes>"
      ]
     },
     "metadata": {
      "needs_background": "light"
     },
     "output_type": "display_data"
    }
   ],
   "source": [
    "viridis = cm.get_cmap('viridis')\n",
    "plt.bar(range(len(df['filename'])), df['fm'], color = viridis(normalize(df['number_of_clusters'] - 4)))\n",
    "plt.xticks(range(len(df['filename'])), (str(x) for x in range(len(df['filename']))))\n",
    "plt.show()"
   ]
  },
  {
   "cell_type": "code",
   "execution_count": 95,
   "id": "rural-brazil",
   "metadata": {},
   "outputs": [],
   "source": [
    "human_data_paths = list(Path(\"/chompsky/techno/development/work/clustering-data-cleaning/build/normalized\").glob('*.json'))\n",
    "human_data_path = human_data_paths[6]"
   ]
  },
  {
   "cell_type": "code",
   "execution_count": 1,
   "id": "committed-candy",
   "metadata": {},
   "outputs": [
    {
     "ename": "NameError",
     "evalue": "name 'json' is not defined",
     "output_type": "error",
     "traceback": [
      "\u001b[0;31m---------------------------------------------------------------------------\u001b[0m",
      "\u001b[0;31mNameError\u001b[0m                                 Traceback (most recent call last)",
      "\u001b[0;32m<ipython-input-1-f368dc6990e3>\u001b[0m in \u001b[0;36m<module>\u001b[0;34m\u001b[0m\n\u001b[0;32m----> 1\u001b[0;31m \u001b[0mstimulus\u001b[0m \u001b[0;34m=\u001b[0m \u001b[0mjson\u001b[0m\u001b[0;34m.\u001b[0m\u001b[0mloads\u001b[0m\u001b[0;34m(\u001b[0m\u001b[0mhuman_data_path\u001b[0m\u001b[0;34m.\u001b[0m\u001b[0mread_bytes\u001b[0m\u001b[0;34m(\u001b[0m\u001b[0;34m)\u001b[0m\u001b[0;34m)\u001b[0m\u001b[0;34m[\u001b[0m\u001b[0;36m40\u001b[0m\u001b[0;34m]\u001b[0m\u001b[0;34m[\u001b[0m\u001b[0;34m'clusters'\u001b[0m\u001b[0;34m]\u001b[0m\u001b[0;34m\u001b[0m\u001b[0;34m\u001b[0m\u001b[0m\n\u001b[0m\u001b[1;32m      2\u001b[0m \u001b[0mraw_data\u001b[0m \u001b[0;34m=\u001b[0m \u001b[0mutility\u001b[0m\u001b[0;34m.\u001b[0m\u001b[0mconv_mat_representation\u001b[0m\u001b[0;34m(\u001b[0m\u001b[0mstimulus\u001b[0m\u001b[0;34m)\u001b[0m\u001b[0;34m\u001b[0m\u001b[0;34m\u001b[0m\u001b[0m\n\u001b[1;32m      3\u001b[0m \u001b[0mraw_points\u001b[0m \u001b[0;34m=\u001b[0m \u001b[0mraw_data\u001b[0m\u001b[0;34m[\u001b[0m\u001b[0;34m:\u001b[0m\u001b[0;34m,\u001b[0m \u001b[0;34m:\u001b[0m\u001b[0;36m2\u001b[0m\u001b[0;34m]\u001b[0m\u001b[0;34m\u001b[0m\u001b[0;34m\u001b[0m\u001b[0m\n\u001b[1;32m      4\u001b[0m \u001b[0mraw_data\u001b[0m\u001b[0;34m\u001b[0m\u001b[0;34m\u001b[0m\u001b[0m\n",
      "\u001b[0;31mNameError\u001b[0m: name 'json' is not defined"
     ]
    }
   ],
   "source": [
    "stimulus = json.loads(human_data_path.read_bytes())[40]['clusters']\n",
    "raw_data = utility.conv_mat_representation(stimulus)\n",
    "raw_points = raw_data[:, :2]\n",
    "raw_data"
   ]
  },
  {
   "cell_type": "code",
   "execution_count": 2,
   "id": "endangered-nancy",
   "metadata": {},
   "outputs": [
    {
     "ename": "NameError",
     "evalue": "name 'Network' is not defined",
     "output_type": "error",
     "traceback": [
      "\u001b[0;31m---------------------------------------------------------------------------\u001b[0m",
      "\u001b[0;31mNameError\u001b[0m                                 Traceback (most recent call last)",
      "\u001b[0;32m<ipython-input-2-b31632913b85>\u001b[0m in \u001b[0;36m<module>\u001b[0;34m\u001b[0m\n\u001b[0;32m----> 1\u001b[0;31m \u001b[0mnetwork\u001b[0m \u001b[0;34m=\u001b[0m \u001b[0mNetwork\u001b[0m\u001b[0;34m.\u001b[0m\u001b[0mgenerate_initial\u001b[0m\u001b[0;34m(\u001b[0m\u001b[0mraw_points\u001b[0m\u001b[0;34m)\u001b[0m\u001b[0;34m\u001b[0m\u001b[0;34m\u001b[0m\u001b[0m\n\u001b[0m\u001b[1;32m      2\u001b[0m \u001b[0mnetwork\u001b[0m\u001b[0;34m.\u001b[0m\u001b[0mplot\u001b[0m\u001b[0;34m(\u001b[0m\u001b[0mraw_points\u001b[0m\u001b[0;34m)\u001b[0m\u001b[0;34m\u001b[0m\u001b[0;34m\u001b[0m\u001b[0m\n",
      "\u001b[0;31mNameError\u001b[0m: name 'Network' is not defined"
     ]
    }
   ],
   "source": [
    "network = Network.generate_initial(raw_points)\n",
    "network.plot(raw_points)"
   ]
  },
  {
   "cell_type": "code",
   "execution_count": 125,
   "id": "ongoing-church",
   "metadata": {},
   "outputs": [
    {
     "name": "stdout",
     "output_type": "stream",
     "text": [
      "19\n"
     ]
    },
    {
     "data": {
      "image/png": "[encoded data removed]",
      "text/plain": [
       "<Figure size 432x288 with 1 Axes>"
      ]
     },
     "metadata": {
      "needs_background": "light"
     },
     "output_type": "display_data"
    }
   ],
   "source": [
    "network.fit(raw_points)\n",
    "network.plot(raw_points, False)\n",
    "print(network.bottomk_number)"
   ]
  },
  {
   "cell_type": "code",
   "execution_count": null,
   "id": "steady-broadcasting",
   "metadata": {},
   "outputs": [],
   "source": []
  },
  {
   "cell_type": "code",
   "execution_count": null,
   "id": "educational-revelation",
   "metadata": {},
   "outputs": [],
   "source": []
  }
 ],
 "metadata": {
  "kernelspec": {
   "display_name": "Python 3",
   "language": "python",
   "name": "python3"
  },
  "language_info": {
   "codemirror_mode": {
    "name": "ipython",
    "version": 3
   },
   "file_extension": ".py",
   "mimetype": "text/x-python",
   "name": "python",
   "nbconvert_exporter": "python",
   "pygments_lexer": "ipython3",
   "version": "3.9.3"
  }
 },
 "nbformat": 4,
 "nbformat_minor": 5
}
