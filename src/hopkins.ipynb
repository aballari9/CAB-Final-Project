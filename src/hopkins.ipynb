{
 "metadata": {
  "language_info": {
   "codemirror_mode": {
    "name": "ipython",
    "version": 3
   },
   "file_extension": ".py",
   "mimetype": "text/x-python",
   "name": "python",
   "nbconvert_exporter": "python",
   "pygments_lexer": "ipython3",
   "version": "3.7.3"
  },
  "orig_nbformat": 2,
  "kernelspec": {
   "name": "python373jvsc74a57bd07fbb708c7da854dcfd997cdeaf7d7ac1f5d36b97cfff7e9cce3ab562ae9eac2c",
   "display_name": "Python 3.7.3 64-bit ('base': conda)"
  }
 },
 "nbformat": 4,
 "nbformat_minor": 2,
 "cells": [
  {
   "cell_type": "code",
   "execution_count": 2,
   "metadata": {},
   "outputs": [],
   "source": [
    "from math import isnan\n",
    "from random import sample\n",
    "def hopkins(X):\n",
    "  d = X.shape[1]\n",
    "  #d = len(vars) # columns\n",
    "  n = len(X) # rows\n",
    "  m = int(0.1 * n)\n",
    "  nbrs = NearestNeighbors(n_neighbors=1).fit(X)\n",
    " \n",
    "  rand_X = sample(range(0, n, 1), m)\n",
    " \n",
    "  ujd = []\n",
    "  wjd = []\n",
    "  for j in range(0, m):\n",
    "     u_dist, _ = nbrs.kneighbors(np.random.uniform(np.amin(X,axis=0),np.amax(X,axis=0),d).reshape(1, -1), 2, return_distance=True)\n",
    "     ujd.append(u_dist[0][1])\n",
    "     w_dist, _ = nbrs.kneighbors(X[rand_X[j]].reshape(1, -1), 2, return_distance=True)\n",
    "     wjd.append(w_dist[0][1])\n",
    " \n",
    "  H = sum(ujd) / (sum(ujd) + sum(wjd))\n",
    "  if isnan(H):\n",
    "     print(ujd, wjd)\n",
    "     H = 0\n",
    " \n",
    "  return H"
   ]
  }
 ]
}