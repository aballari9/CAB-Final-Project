{
 "cells": [
  {
   "cell_type": "code",
   "execution_count": 2555,
   "id": "charitable-handbook",
   "metadata": {},
   "outputs": [],
   "source": [
    "import numpy as np\n",
    "from pathlib import Path\n",
    "from matplotlib import pyplot as plt\n",
    "\n",
    "# O(n)\n",
    "def bottomk_indices(v, k):\n",
    "    return np.argpartition(v, k)[:k]\n",
    "\n",
    "def not_indices(indices, shape):\n",
    "    new_indices = np.ones(shape, dtype=bool)\n",
    "    new_indices[indices] = False\n",
    "    return new_indices\n",
    "\n",
    "def normalize(x):\n",
    "    min = np.min(x)\n",
    "    return ((x - min) /\n",
    "            (np.max(x) - min))\n",
    "\n",
    "def clamp(x):\n",
    "    return np.clip(x, 0, 1)"
   ]
  },
  {
   "cell_type": "code",
   "execution_count": 3733,
   "id": "unknown-seeker",
   "metadata": {},
   "outputs": [],
   "source": [
    "raw_data_path = list(Path(\"../stimuli/obvious_gaussian_clusters\").iterdir())[0]"
   ]
  },
  {
   "cell_type": "code",
   "execution_count": 3734,
   "id": "compatible-wisconsin",
   "metadata": {},
   "outputs": [],
   "source": [
    "raw_data = np.load(raw_data_path)"
   ]
  },
  {
   "cell_type": "markdown",
   "id": "informative-jaguar",
   "metadata": {},
   "source": [
    "## Structure of data\n",
    "\n",
    "* x\n",
    "* y\n",
    "* cluster_number"
   ]
  },
  {
   "cell_type": "code",
   "execution_count": 3735,
   "id": "ultimate-prime",
   "metadata": {
    "scrolled": true
   },
   "outputs": [
    {
     "name": "stdout",
     "output_type": "stream",
     "text": [
      "Shape: (20, 3)\n"
     ]
    },
    {
     "data": {
      "text/plain": [
       "array([[346.93670781, 773.11255145,   0.        ],\n",
       "       [359.13029152, 819.82879763,   0.        ],\n",
       "       [336.35303862, 703.03756795,   0.        ],\n",
       "       [382.0850861 , 672.65241735,   0.        ],\n",
       "       [389.62233413, 744.58613532,   0.        ],\n",
       "       [432.12742467,  82.18252923,   1.        ],\n",
       "       [482.90067379,  31.5120241 ,   1.        ],\n",
       "       [462.49873341,  25.6787751 ,   1.        ],\n",
       "       [495.89468675,  83.64957469,   1.        ],\n",
       "       [476.9516279 ,  62.23464235,   1.        ]])"
      ]
     },
     "execution_count": 3735,
     "metadata": {},
     "output_type": "execute_result"
    }
   ],
   "source": [
    "print(\"Shape: {}\".format(raw_data.shape))\n",
    "raw_data[:10]"
   ]
  },
  {
   "cell_type": "code",
   "execution_count": 3736,
   "id": "noted-investing",
   "metadata": {},
   "outputs": [],
   "source": [
    "raw_points = raw_data[:, :2]"
   ]
  },
  {
   "cell_type": "code",
   "execution_count": 3737,
   "id": "worse-renaissance",
   "metadata": {},
   "outputs": [],
   "source": [
    "# parameters\n",
    "number_of_neurons_in_network = 100\n",
    "bottomk_number = 10\n",
    "learning_rate = 0.1\n",
    "training_iterations = 100"
   ]
  },
  {
   "cell_type": "code",
   "execution_count": 3930,
   "id": "fantastic-collection",
   "metadata": {},
   "outputs": [],
   "source": [
    "class Network:\n",
    "    \n",
    "    def __init__(self, D):\n",
    "        # D are the values of the neurons\n",
    "        self.D = D\n",
    "        # W are the weights of the neurons\n",
    "        self.W = np.ones(D.shape[0]) / 2\n",
    "    \n",
    "    @classmethod\n",
    "    def generate_initial(cls, X):\n",
    "        n_dims = X.shape[1]\n",
    "        ranges = []\n",
    "        for col_idx in range(n_dims):\n",
    "            col_values = X[:, col_idx]\n",
    "            min = np.min(col_values)\n",
    "            max = np.max(col_values)\n",
    "            ranges.append((min, max))\n",
    "\n",
    "        final_transposed = []\n",
    "        for min, max in ranges:\n",
    "            final_transposed.append(np.random.uniform(min, max, number_of_neurons_in_network))\n",
    "\n",
    "        return cls(np.array(final_transposed).T)\n",
    "    \n",
    "    def plot(self, X, edge=True):\n",
    "        fig, ax = plt.subplots()\n",
    "        ax.scatter(X[:, 0], X[:, 1], color=\"red\")\n",
    "        facecolors = np.array([0, 1, 0]) * np.ones(len(self.W)).reshape(len(self.W), 1).astype('int')\n",
    "        facecolors = np.hstack((facecolors, self.W.reshape(-1, 1)))\n",
    "        ax.scatter(self.D[:, 0], self.D[:, 1], facecolor=facecolors, edgecolor='b' if edge else None)\n",
    "        return ax\n",
    "    \n",
    "    def __repr__(self):\n",
    "        return f\"<Network D={len(self.D)}>\"\n"
   ]
  },
  {
   "cell_type": "code",
   "execution_count": 3931,
   "id": "broadband-reducing",
   "metadata": {
    "scrolled": true
   },
   "outputs": [
    {
     "data": {
      "text/plain": [
       "<AxesSubplot:>"
      ]
     },
     "execution_count": 3931,
     "metadata": {},
     "output_type": "execute_result"
    },
    {
     "data": {
      "image/png": "[encoded data removed]",
      "text/plain": [
       "<Figure size 432x288 with 1 Axes>"
      ]
     },
     "metadata": {
      "needs_background": "light"
     },
     "output_type": "display_data"
    }
   ],
   "source": [
    "network = Network.generate_initial(raw_points)\n",
    "network.plot(raw_points)"
   ]
  },
  {
   "cell_type": "code",
   "execution_count": 3952,
   "id": "collective-natural",
   "metadata": {
    "scrolled": true
   },
   "outputs": [
    {
     "name": "stdout",
     "output_type": "stream",
     "text": [
      "0.9585184591844074\n"
     ]
    },
    {
     "data": {
      "text/plain": [
       "<AxesSubplot:>"
      ]
     },
     "execution_count": 3952,
     "metadata": {},
     "output_type": "execute_result"
    },
    {
     "data": {
      "image/png": "[encoded data removed]",
      "text/plain": [
       "<Figure size 432x288 with 1 Axes>"
      ]
     },
     "metadata": {
      "needs_background": "light"
     },
     "output_type": "display_data"
    }
   ],
   "source": [
    "# experimental training loop\n",
    "shape = raw_points.shape\n",
    "\n",
    " # inhibition amount\n",
    "activation_in_network = np.sum(network.W) / network.W.shape[0]\n",
    "inhibition_ratio  = 1 - activation_in_network\n",
    "\n",
    "# data point similarity\n",
    "for data_point in raw_points:\n",
    "    difference_vectors =  network.D - data_point.reshape(1, shape[1])\n",
    "    euclidean_distances = np.linalg.norm(difference_vectors, ord=2, axis=1)\n",
    "    nearby_indices = bottomk_indices(euclidean_distances, bottomk_number)\n",
    "    close_neurons_distances = euclidean_distances[nearby_indices]\n",
    "    \n",
    "    # hebbian part, move them closer, this is very important\n",
    "    network.D[nearby_indices] = network.D[nearby_indices] - learning_rate * network.W[nearby_indices].reshape(-1, 1) * difference_vectors[nearby_indices]\n",
    "    \n",
    "    # reduce weights of far away points, this seems fairly important to kill neurons that are not doing anything\n",
    "    weight_change_reduction_indices = not_indices(nearby_indices, network.W.shape)\n",
    "    network.W[weight_change_reduction_indices] = clamp(network.W[weight_change_reduction_indices] - 0.01)\n",
    "\n",
    "    # increase weight of the closest point\n",
    "    #i = np.argmin(euclidean_distances)\n",
    "    #network.W[i] = clamp(network.W[i] + 0.2)\n",
    "    network.W[nearby_indices] = clamp(network.W[nearby_indices] + network.W[nearby_indices] * 0.5)\n",
    "    \n",
    "\n",
    "    \n",
    "    # tan(x) based inhibition\n",
    "    #normalized_neuron_distances = normalize(close_neurons_distances)\n",
    "#     weight_changes = np.tan(normalized_neuron_distances - 0.5) * network.W[nearby_indices]\n",
    "#     print(weight_changes)\n",
    "#     network.W[nearby_indices] = clamp(network.W[nearby_indices] + weight_changes)\n",
    "    \n",
    "# neuron proximity based inhibition\n",
    "for idx in range(0, len(network.D)):\n",
    "    neuron = network.D[idx]\n",
    "    neuron_weight = network.W[idx]\n",
    "    difference_vectors_from_other_neurons = network.D - neuron.reshape(1, shape[1])\n",
    "    euclidean_distances = np.linalg.norm(difference_vectors_from_other_neurons, ord=2, axis=1)\n",
    "    # plus one because the neuron itself is in the dataset\n",
    "    near_neuron_indices = bottomk_indices(euclidean_distances, bottomk_number + 1)\n",
    "    weight_change_neuron_indicies = near_neuron_indices[near_neuron_indices != idx]\n",
    "    normalized_distances = normalize(euclidean_distances[weight_change_neuron_indicies])\n",
    "    weight_changes = (1 - normalized_distances) * neuron_weight\n",
    "    network.W[weight_change_neuron_indicies] = clamp(network.W[weight_change_neuron_indicies] - weight_changes)\n",
    "        \n",
    "  \n",
    "    \n",
    "    # reduce weights of nearby points\n",
    "    # network.W[nearby_indices] = clamp(network.W[nearby_indices] - (0.01 * inhibition_ratio), 0, 1)\n",
    "    \n",
    "\n",
    "print(inhibition_ratio)\n",
    "network.plot(raw_points, edge=False)"
   ]
  },
  {
   "cell_type": "code",
   "execution_count": 3822,
   "id": "prime-moore",
   "metadata": {},
   "outputs": [
    {
     "data": {
      "text/plain": [
       "(array([1., 0., 0., 1., 0., 0., 1., 0., 0., 1.]),\n",
       " array([0.85 , 0.865, 0.88 , 0.895, 0.91 , 0.925, 0.94 , 0.955, 0.97 ,\n",
       "        0.985, 1.   ]),\n",
       " <BarContainer object of 10 artists>)"
      ]
     },
     "execution_count": 3822,
     "metadata": {},
     "output_type": "execute_result"
    },
    {
     "data": {
      "image/png": "[encoded data removed]",
      "text/plain": [
       "<Figure size 432x288 with 1 Axes>"
      ]
     },
     "metadata": {
      "needs_background": "light"
     },
     "output_type": "display_data"
    }
   ],
   "source": [
    "plt.hist(network.W[network.W != 0])"
   ]
  },
  {
   "cell_type": "code",
   "execution_count": 3818,
   "id": "registered-advancement",
   "metadata": {},
   "outputs": [
    {
     "data": {
      "text/plain": [
       "<AxesSubplot:>"
      ]
     },
     "execution_count": 3818,
     "metadata": {},
     "output_type": "execute_result"
    },
    {
     "data": {
      "image/png": "[encoded data removed]",
      "text/plain": [
       "<Figure size 432x288 with 1 Axes>"
      ]
     },
     "metadata": {
      "needs_background": "light"
     },
     "output_type": "display_data"
    }
   ],
   "source": [
    "# simple training loop\n",
    "shape = raw_points.shape\n",
    "for data_point in raw_points:\n",
    "    difference_vectors =  network.D - data_point.reshape(1, shape[1])\n",
    "    euclidean_distances = np.linalg.norm(difference_vectors, ord=2, axis=1)\n",
    "    nearby_indices = bottomk_indices(euclidean_distances, bottomk_number)\n",
    "    close_neurons_distances = euclidean_distances[nearby_indices]\n",
    "    closest_value_index = np.argmax(close_neurons_distances)\n",
    "    network.D[nearby_indices] = network.D[nearby_indices] - learning_rate * difference_vectors[nearby_indices]\n",
    "    \n",
    "    # reduce weights of far away points\n",
    "    weight_change_reduction_indices = not_indices(nearby_indices, network.W.shape)\n",
    "    network.W[weight_change_reduction_indices] = np.clip(network.W[weight_change_reduction_indices] - 0.001, 0, 1)\n",
    "\n",
    "    # increase weights of nearby points\n",
    "    network.W[nearby_indices] = np.clip(network.W[nearby_indices] + 0.010, 0, 1)\n",
    "\n",
    "network.plot(raw_points)\n"
   ]
  },
  {
   "cell_type": "code",
   "execution_count": 1614,
   "id": "forward-sally",
   "metadata": {},
   "outputs": [
    {
     "data": {
      "text/plain": [
       "<AxesSubplot:>"
      ]
     },
     "execution_count": 1614,
     "metadata": {},
     "output_type": "execute_result"
    },
    {
     "data": {
      "image/png": "[encoded data removed]",
      "text/plain": [
       "<Figure size 432x288 with 1 Axes>"
      ]
     },
     "metadata": {
      "needs_background": "light"
     },
     "output_type": "display_data"
    }
   ],
   "source": [
    "# sampling training loop\n",
    "\n",
    "shape = raw_points.shape\n",
    "num_in_sample = shape[0] // 3\n",
    "for _ in range(training_iterations):\n",
    "  sample = raw_points[np.random.choice(np.arange(shape[0]), num_in_sample)]\n",
    "  for data_point in sample:\n",
    "      difference_vectors =  network.D - data_point.reshape(1, shape[1])\n",
    "      euclidean_distances = np.linalg.norm(difference_vectors, ord=2, axis=1)\n",
    "      nearby_indices = bottomk_indices(euclidean_distances, bottomk_number)\n",
    "      close_neurons_distances = euclidean_distances[nearby_indices]\n",
    "      closest_value_index = np.argmax(close_neurons_distances)\n",
    "      network.D[nearby_indices] = network.D[nearby_indices] - learning_rate * difference_vectors[nearby_indices]\n",
    "      \n",
    "      # reduce weights of far away points\n",
    "      weight_change_reduction_indices = not_indices(nearby_indices, network.W.shape)\n",
    "      network.W[weight_change_reduction_indices] = np.clip(network.W[weight_change_reduction_indices] - 0.001, 0, 1)\n",
    "\n",
    "      # increase weights of nearby points\n",
    "      network.W[nearby_indices] = np.clip(network.W[nearby_indices] + 0.010, 0, 1)\n",
    "\n",
    "network.plot(raw_points)\n"
   ]
  },
  {
   "cell_type": "code",
   "execution_count": 3161,
   "id": "opening-wrapping",
   "metadata": {},
   "outputs": [
    {
     "data": {
      "text/plain": [
       "array([[1, 2, 3],\n",
       "       [1, 2, 3],\n",
       "       [1, 2, 3],\n",
       "       [1, 2, 3],\n",
       "       [1, 2, 3],\n",
       "       [1, 2, 3],\n",
       "       [1, 2, 3],\n",
       "       [1, 2, 3],\n",
       "       [1, 2, 3],\n",
       "       [1, 2, 3],\n",
       "       [1, 2, 3],\n",
       "       [1, 2, 3],\n",
       "       [1, 2, 3],\n",
       "       [1, 2, 3],\n",
       "       [1, 2, 3],\n",
       "       [1, 2, 3],\n",
       "       [1, 2, 3],\n",
       "       [1, 2, 3],\n",
       "       [1, 2, 3],\n",
       "       [1, 2, 3],\n",
       "       [1, 2, 3],\n",
       "       [1, 2, 3],\n",
       "       [1, 2, 3],\n",
       "       [1, 2, 3],\n",
       "       [1, 2, 3],\n",
       "       [1, 2, 3],\n",
       "       [1, 2, 3],\n",
       "       [1, 2, 3],\n",
       "       [1, 2, 3],\n",
       "       [1, 2, 3],\n",
       "       [1, 2, 3],\n",
       "       [1, 2, 3],\n",
       "       [1, 2, 3],\n",
       "       [1, 2, 3],\n",
       "       [1, 2, 3],\n",
       "       [1, 2, 3],\n",
       "       [1, 2, 3],\n",
       "       [1, 2, 3],\n",
       "       [1, 2, 3],\n",
       "       [1, 2, 3],\n",
       "       [1, 2, 3],\n",
       "       [1, 2, 3],\n",
       "       [1, 2, 3],\n",
       "       [1, 2, 3],\n",
       "       [1, 2, 3],\n",
       "       [1, 2, 3],\n",
       "       [1, 2, 3],\n",
       "       [1, 2, 3],\n",
       "       [1, 2, 3],\n",
       "       [1, 2, 3],\n",
       "       [1, 2, 3],\n",
       "       [1, 2, 3],\n",
       "       [1, 2, 3],\n",
       "       [1, 2, 3],\n",
       "       [1, 2, 3],\n",
       "       [1, 2, 3],\n",
       "       [1, 2, 3],\n",
       "       [1, 2, 3],\n",
       "       [1, 2, 3],\n",
       "       [1, 2, 3],\n",
       "       [1, 2, 3],\n",
       "       [1, 2, 3],\n",
       "       [1, 2, 3],\n",
       "       [1, 2, 3],\n",
       "       [1, 2, 3],\n",
       "       [1, 2, 3],\n",
       "       [1, 2, 3],\n",
       "       [1, 2, 3],\n",
       "       [1, 2, 3],\n",
       "       [1, 2, 3],\n",
       "       [1, 2, 3],\n",
       "       [1, 2, 3],\n",
       "       [1, 2, 3],\n",
       "       [1, 2, 3],\n",
       "       [1, 2, 3],\n",
       "       [1, 2, 3],\n",
       "       [1, 2, 3],\n",
       "       [1, 2, 3],\n",
       "       [1, 2, 3],\n",
       "       [1, 2, 3],\n",
       "       [1, 2, 3],\n",
       "       [1, 2, 3],\n",
       "       [1, 2, 3],\n",
       "       [1, 2, 3],\n",
       "       [1, 2, 3],\n",
       "       [1, 2, 3],\n",
       "       [1, 2, 3],\n",
       "       [1, 2, 3],\n",
       "       [1, 2, 3],\n",
       "       [1, 2, 3],\n",
       "       [1, 2, 3],\n",
       "       [1, 2, 3],\n",
       "       [1, 2, 3],\n",
       "       [1, 2, 3],\n",
       "       [1, 2, 3],\n",
       "       [1, 2, 3],\n",
       "       [1, 2, 3],\n",
       "       [1, 2, 3],\n",
       "       [1, 2, 3],\n",
       "       [1, 2, 3]])"
      ]
     },
     "execution_count": 3161,
     "metadata": {},
     "output_type": "execute_result"
    }
   ],
   "source": [
    "np.array([[1, 2, 3]]) * np.ones(100).reshape(100, 1).astype('int')"
   ]
  },
  {
   "cell_type": "code",
   "execution_count": null,
   "id": "lyric-coral",
   "metadata": {},
   "outputs": [],
   "source": []
  },
  {
   "cell_type": "code",
   "execution_count": null,
   "id": "genetic-printer",
   "metadata": {},
   "outputs": [],
   "source": []
  }
 ],
 "metadata": {
  "kernelspec": {
   "display_name": "Python 3",
   "language": "python",
   "name": "python3"
  },
  "language_info": {
   "codemirror_mode": {
    "name": "ipython",
    "version": 3
   },
   "file_extension": ".py",
   "mimetype": "text/x-python",
   "name": "python",
   "nbconvert_exporter": "python",
   "pygments_lexer": "ipython3",
   "version": "3.9.3"
  }
 },
 "nbformat": 4,
 "nbformat_minor": 5
}
