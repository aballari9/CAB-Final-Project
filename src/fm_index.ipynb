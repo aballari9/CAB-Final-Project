{
 "metadata": {
  "language_info": {
   "codemirror_mode": {
    "name": "ipython",
    "version": 3
   },
   "file_extension": ".py",
   "mimetype": "text/x-python",
   "name": "python",
   "nbconvert_exporter": "python",
   "pygments_lexer": "ipython3",
   "version": "3.7.3"
  },
  "orig_nbformat": 2,
  "kernelspec": {
   "name": "python373jvsc74a57bd07fbb708c7da854dcfd997cdeaf7d7ac1f5d36b97cfff7e9cce3ab562ae9eac2c",
   "display_name": "Python 3.7.3 64-bit ('base': conda)"
  },
  "metadata": {
   "interpreter": {
    "hash": "7fbb708c7da854dcfd997cdeaf7d7ac1f5d36b97cfff7e9cce3ab562ae9eac2c"
   }
  }
 },
 "nbformat": 4,
 "nbformat_minor": 2,
 "cells": [
  {
   "cell_type": "code",
   "execution_count": 2,
   "metadata": {},
   "outputs": [],
   "source": [
    "from sklearn.metrics.cluster import fowlkes_mallows_score\n",
    "import os, json\n",
    "import pandas as pd\n",
    "\n"
   ]
  },
  {
   "cell_type": "code",
   "execution_count": 8,
   "metadata": {},
   "outputs": [],
   "source": [
    "# Given two clusterings (given as partitioned arrays of { x int, y int} dicts), calculates the similarity between them using the Fowlkes-Mallows index. Similar clusters approach 1, random clusterings approach 0.\n",
    " \n",
    "def fm_index_points(a, b):\n",
    "    # print(a)\n",
    "    # print(b)\n",
    "    points = set()\n",
    "    cluster_a = dict() # point -> cluster number\n",
    "    cluster_b = dict() \n",
    "    for i, cluster in enumerate(a):\n",
    "        for p in cluster:\n",
    "            cluster_a[(p[\"x\"], p[\"y\"])] = i\n",
    "            points.add((p[\"x\"], p[\"y\"]))\n",
    "    for i, cluster in enumerate(b):\n",
    "        for p in cluster:\n",
    "            cluster_b[(p[\"x\"], p[\"y\"])] = i\n",
    "    \n",
    "    binary_a = []\n",
    "    binary_b = []\n",
    "    for p in points:\n",
    "        binary_a.append(cluster_a[p])\n",
    "        if p in cluster_b:\n",
    "            binary_b.append(cluster_b[p])\n",
    "        else:\n",
    "            binary_b.append(-1)\n",
    "\n",
    "    # print(binary_a)\n",
    "    # print(binary_b)        \n",
    "    return fowlkes_mallows_score(binary_a, binary_b)\n"
   ]
  }
 ]
}