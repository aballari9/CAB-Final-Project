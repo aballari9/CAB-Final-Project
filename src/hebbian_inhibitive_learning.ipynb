{
 "cells": [
  {
   "cell_type": "code",
   "execution_count": 11,
   "id": "charitable-handbook",
   "metadata": {},
   "outputs": [],
   "source": [
    "import numpy as np\n",
    "from pathlib import Path\n",
    "from matplotlib import pyplot as plt"
   ]
  },
  {
   "cell_type": "code",
   "execution_count": 12,
   "id": "unknown-seeker",
   "metadata": {},
   "outputs": [],
   "source": [
    "raw_data_path = list(Path(\"../stimuli/obvious_gaussian_clusters\").iterdir())[0]"
   ]
  },
  {
   "cell_type": "code",
   "execution_count": 13,
   "id": "compatible-wisconsin",
   "metadata": {},
   "outputs": [],
   "source": [
    "raw_data = np.load(raw_data_path)"
   ]
  },
  {
   "cell_type": "markdown",
   "id": "informative-jaguar",
   "metadata": {},
   "source": [
    "## Structure of data\n",
    "\n",
    "* x\n",
    "* y\n",
    "* cluster_number"
   ]
  },
  {
   "cell_type": "code",
   "execution_count": 170,
   "id": "ultimate-prime",
   "metadata": {
    "scrolled": true
   },
   "outputs": [
    {
     "name": "stdout",
     "output_type": "stream",
     "text": [
      "Shape: (20, 3)\n"
     ]
    },
    {
     "data": {
      "text/plain": [
       "array([[346.93670781, 773.11255145,   0.        ],\n",
       "       [359.13029152, 819.82879763,   0.        ],\n",
       "       [336.35303862, 703.03756795,   0.        ],\n",
       "       [382.0850861 , 672.65241735,   0.        ],\n",
       "       [389.62233413, 744.58613532,   0.        ],\n",
       "       [432.12742467,  82.18252923,   1.        ],\n",
       "       [482.90067379,  31.5120241 ,   1.        ],\n",
       "       [462.49873341,  25.6787751 ,   1.        ],\n",
       "       [495.89468675,  83.64957469,   1.        ],\n",
       "       [476.9516279 ,  62.23464235,   1.        ]])"
      ]
     },
     "execution_count": 170,
     "metadata": {},
     "output_type": "execute_result"
    }
   ],
   "source": [
    "print(\"Shape: {}\".format(raw_data.shape))\n",
    "raw_data[:10]"
   ]
  },
  {
   "cell_type": "code",
   "execution_count": 171,
   "id": "noted-investing",
   "metadata": {},
   "outputs": [],
   "source": [
    "raw_points = raw_data[:, :2]"
   ]
  },
  {
   "cell_type": "code",
   "execution_count": 396,
   "id": "worse-renaissance",
   "metadata": {},
   "outputs": [],
   "source": [
    "# parameters\n",
    "number_of_neurons_in_network = 100\n",
    "bottomk_number = 10\n",
    "learning_rate = 0.1\n",
    "training_iterations = 100"
   ]
  },
  {
   "cell_type": "code",
   "execution_count": 801,
   "id": "fantastic-collection",
   "metadata": {},
   "outputs": [],
   "source": [
    "class Network:\n",
    "    \n",
    "    def __init__(self, D):\n",
    "        # D are the values of the neurons\n",
    "        self.D = D\n",
    "        # W are the weights of the neurons\n",
    "        self.W = np.ones(D.shape[0]) / 2\n",
    "    \n",
    "    @classmethod\n",
    "    def generate_initial(cls, X):\n",
    "        n_dims = X.shape[1]\n",
    "        ranges = []\n",
    "        for col_idx in range(n_dims):\n",
    "            col_values = X[:, col_idx]\n",
    "            min = np.min(col_values)\n",
    "            max = np.max(col_values)\n",
    "            ranges.append((min, max))\n",
    "\n",
    "        final_transposed = []\n",
    "        for min, max in ranges:\n",
    "            final_transposed.append(np.random.uniform(min, max, number_of_neurons_in_network))\n",
    "\n",
    "        return cls(np.array(final_transposed).T)\n",
    "    \n",
    "    def plot(self, X):\n",
    "        fig, ax = plt.subplots()\n",
    "        ax.scatter(X[:, 0], X[:, 1], color=\"red\")\n",
    "        ax.scatter(self.D[:, 0], self.D[:, 1], color=\"blue\", alpha=self.W)\n",
    "        return ax\n",
    "    \n",
    "    def __repr__(self):\n",
    "        return f\"<Network D={len(self.D)}>\"\n",
    "        \n",
    "network = Network.generate_initial(raw_points)"
   ]
  },
  {
   "cell_type": "code",
   "execution_count": 802,
   "id": "bearing-finance",
   "metadata": {},
   "outputs": [],
   "source": [
    "# O(n)\n",
    "def bottomk_indices(v, k):\n",
    "    return np.argpartition(v, k)[:k]\n",
    "\n",
    "def not_indices(indices, shape):\n",
    "    new_indices = np.ones(shape, dtype=bool)\n",
    "    new_indices[indices] = False\n",
    "    return new_indices"
   ]
  },
  {
   "cell_type": "code",
   "execution_count": 838,
   "id": "registered-advancement",
   "metadata": {},
   "outputs": [
    {
     "data": {
      "text/plain": [
       "<AxesSubplot:>"
      ]
     },
     "execution_count": 838,
     "metadata": {},
     "output_type": "execute_result"
    },
    {
     "data": {
      "image/png": "[encoded data removed]",
      "text/plain": [
       "<Figure size 432x288 with 1 Axes>"
      ]
     },
     "metadata": {
      "needs_background": "light"
     },
     "output_type": "display_data"
    }
   ],
   "source": [
    "shape = raw_points.shape\n",
    "for data_point in raw_points:\n",
    "    difference_vectors =  network.D - data_point.reshape(1, shape[1])\n",
    "    euclidean_distances = np.linalg.norm(difference_vectors, ord=2, axis=1)\n",
    "    indices = bottomk_indices(euclidean_distances, bottomk_number)\n",
    "    close_neurons_distances = euclidean_distances[indices]\n",
    "    closest_value_index = np.argmax(close_neurons_distances)\n",
    "    network.D[indices] = network.D[indices] - learning_rate * difference_vectors[indices]\n",
    "    \n",
    "    weight_change_reduction_indices = not_indices(indices, network.W.shape)\n",
    "    network.W[weight_change_reduction_indices] = np.clip(network.W[weight_change_reduction_indices] - 0.001, 0, 1)\n",
    "    network.W[indices] = np.clip(network.W[indices] + 0.010, 0, 1)\n",
    "\n",
    "network.plot(raw_points)"
   ]
  },
  {
   "cell_type": "code",
   "execution_count": null,
   "metadata": {},
   "outputs": [],
   "source": []
  }
 ],
 "metadata": {
  "kernelspec": {
   "name": "python373jvsc74a57bd031f2aee4e71d21fbe5cf8b01ff0e069b9275f58929596ceb00d14d90e3e16cd6",
   "display_name": "Python 3.7.3 64-bit"
  },
  "language_info": {
   "codemirror_mode": {
    "name": "ipython",
    "version": 3
   },
   "file_extension": ".py",
   "mimetype": "text/x-python",
   "name": "python",
   "nbconvert_exporter": "python",
   "pygments_lexer": "ipython3",
   "version": "3.7.3"
  },
  "metadata": {
   "interpreter": {
    "hash": "31f2aee4e71d21fbe5cf8b01ff0e069b9275f58929596ceb00d14d90e3e16cd6"
   }
  }
 },
 "nbformat": 4,
 "nbformat_minor": 5
}