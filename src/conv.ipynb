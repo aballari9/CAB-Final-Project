{
 "cells": [
  {
   "cell_type": "code",
   "execution_count": 5,
   "metadata": {},
   "outputs": [],
   "source": [
    "import numpy as np\n",
    "from pathlib import Path\n",
    "from matplotlib import pyplot as plt\n",
    "import torch\n",
    "from scipy import signal\n",
    "import imageio\n",
    "from scipy.ndimage import gaussian_filter"
   ]
  },
  {
   "cell_type": "code",
   "execution_count": 6,
   "metadata": {},
   "outputs": [
    {
     "name": "stdout",
     "output_type": "stream",
     "text": [
      "# of Stimuli:  18\n",
      "Stimuli Shape:  (20, 3)\n",
      "[[466.3617951  513.32415499   0.        ]\n",
      " [431.50146296 554.29850785   0.        ]\n",
      " [463.25046655 520.06240849   0.        ]\n",
      " [468.39420233 498.27101789   0.        ]\n",
      " [430.93905392 578.19346744   0.        ]\n",
      " [728.37676965 497.98732932   1.        ]\n",
      " [714.52042943 510.70379776   1.        ]\n",
      " [720.06234808 504.84214562   1.        ]\n",
      " [714.63105026 505.42709197   1.        ]\n",
      " [766.00259254 499.82659031   1.        ]\n",
      " [ 63.32533639 751.30673712   2.        ]\n",
      " [149.4200471  773.50513896   2.        ]\n",
      " [ 38.0281254  744.01229814   2.        ]\n",
      " [ 54.00267681 802.08822117   2.        ]\n",
      " [ 31.73119419 810.51084175   2.        ]\n",
      " [736.19080839 196.64091769   3.        ]\n",
      " [693.13533462 201.89345378   3.        ]\n",
      " [733.73276531 261.23846931   3.        ]\n",
      " [758.56015635 187.41390824   3.        ]\n",
      " [708.96275249 233.23400798   3.        ]]\n",
      "[[466 317   0]\n",
      " [432 342   0]\n",
      " [463 321   0]\n",
      " [468 307   0]\n",
      " [431 357   0]\n",
      " [728 307   1]\n",
      " [715 315   1]\n",
      " [720 311   1]\n",
      " [715 312   1]\n",
      " [766 308   1]\n",
      " [ 63 463   2]\n",
      " [149 477   2]\n",
      " [ 38 459   2]\n",
      " [ 54 495   2]\n",
      " [ 32 500   2]\n",
      " [736 121   3]\n",
      " [693 125   3]\n",
      " [734 161   3]\n",
      " [759 116   3]\n",
      " [709 144   3]]\n"
     ]
    }
   ],
   "source": [
    "# Load gaussian cluster data\n",
    "def load_gaussian_clusters(file_path):\n",
    "    \n",
    "    raw_data_path = list(Path(file_path).iterdir())\n",
    "\n",
    "    data = []\n",
    "\n",
    "    for path in raw_data_path:\n",
    "        data.append(np.load(path))\n",
    "    \n",
    "    return data\n",
    "        \n",
    "        \n",
    "data = load_gaussian_clusters(\"../stimuli/obvious_gaussian_clusters\")\n",
    "print(\"# of Stimuli: \", len(data))\n",
    "stim = data[12]\n",
    "print(\"Stimuli Shape: \", stim.shape)\n",
    "\n",
    "print(stim)\n",
    "\n",
    "def normalize_axis(v, max_width):\n",
    "    if np.min(v) < 0:\n",
    "        v = v + -np.min(v)\n",
    "    if np.max(v) > max_width:\n",
    "        v = v * max_width / np.max(v)\n",
    "    return v\n",
    "def normalize(stim):\n",
    "    stim = np.copy(stim)\n",
    "    stim[:, 0] = normalize_axis(stim[:, 0], 800)\n",
    "    stim[:, 1] = normalize_axis(stim[:, 1], 500)\n",
    "    return stim\n",
    "\n",
    "stim = normalize(stim)\n",
    "stim = np.round(stim).astype(int)\n",
    "print(stim)\n"
   ]
  },
  {
   "cell_type": "code",
   "execution_count": 7,
   "metadata": {},
   "outputs": [
    {
     "data": {
      "text/plain": [
       "<AxesSubplot:>"
      ]
     },
     "execution_count": 7,
     "metadata": {},
     "output_type": "execute_result"
    },
    {
     "data": {
      "image/png": "[encoded data removed]",
      "text/plain": [
       "<Figure size 432x288 with 1 Axes>"
      ]
     },
     "metadata": {
      "needs_background": "light"
     },
     "output_type": "display_data"
    },
    {
     "data": {
      "image/png": "[encoded data removed]",
      "text/plain": [
       "<Figure size 432x288 with 1 Axes>"
      ]
     },
     "metadata": {
      "needs_background": "light"
     },
     "output_type": "display_data"
    }
   ],
   "source": [
    "# Visualize Stimuli\n",
    "colors = np.array(['red', 'blue', 'green', 'magenta', 'cyan', 'pink'])\n",
    "def plot_stimuli(X, save_file, show_labels=True):\n",
    "    fig, ax = plt.subplots()\n",
    "    c_idx = X[:, 2].astype(int)        \n",
    "    c = colors[c_idx]\n",
    "    \n",
    "    plt.axis('off')\n",
    "    \n",
    "    if show_labels:\n",
    "        ax.scatter(X[:, 0], X[:, 1], color=colors[X[:, 2].astype(int)])\n",
    "    else:\n",
    "        ax.scatter(X[:, 0], X[:, 1], color='black')\n",
    "        \n",
    "    fig.savefig(save_file)\n",
    "    return ax\n",
    "\n",
    "\n",
    "# row_scaling_factor = np.max(stim[:,0])\n",
    "# col_scaling_factor = np.max(stim[:,1])\n",
    "# stim[:,0:2] = (stim[:,0:2]-np.min(stim[:,0:2])) * 30/(np.max(stim[:,0:2])-np.min(stim[:,0:2]))\n",
    "\n",
    "# print('Unnormalized')\n",
    "plot_stimuli(stim, 'unnormalized.png', show_labels=False)\n",
    "# print('Unnormalized Labeled')\n",
    "plot_stimuli(stim, 'unnormalized_labeled.png', show_labels=True)\n",
    "\n",
    "# # Normalize Data + convert to int\n",
    "# stim[:,0:2] = (stim[:,0:2]-np.min(stim[:,0:2])) * 30/(np.max(stim[:,0:2])-np.min(stim[:,0:2]))\n",
    "# stim1 = np.round(stim).astype(int)\n",
    "# # print('Normalized')\n",
    "# plot_stimuli(stim1, 'normalized.png', show_labels=False)\n",
    "# # print('Normalized Labeled')\n",
    "# plot_stimuli(stim1, 'normalized_labeled.png', show_labels=True)\n",
    "\n",
    "# stim = stim1"
   ]
  },
  {
   "cell_type": "code",
   "execution_count": 8,
   "metadata": {},
   "outputs": [],
   "source": []
  },
  {
   "cell_type": "code",
   "execution_count": 9,
   "metadata": {},
   "outputs": [
    {
     "name": "stdout",
     "output_type": "stream",
     "text": [
      "(288, 432)\n"
     ]
    },
    {
     "data": {
      "text/plain": [
       "<matplotlib.image.AxesImage at 0x7feedd799f50>"
      ]
     },
     "execution_count": 9,
     "metadata": {},
     "output_type": "execute_result"
    },
    {
     "data": {
      "image/png": "[encoded data removed]",
      "text/plain": [
       "<Figure size 432x288 with 1 Axes>"
      ]
     },
     "metadata": {
      "needs_background": "light"
     },
     "output_type": "display_data"
    }
   ],
   "source": [
    "# Load input stimuli\n",
    "im = imageio.imread('unnormalized.png')\n",
    "rgb_weights = [0.2989, 0.5870, 0.1140]\n",
    "im = np.dot(im[...,:3], rgb_weights)\n",
    "print(im.shape)\n",
    "\n",
    "plt.imshow(im, cmap=plt.get_cmap(\"gray\"))\n",
    "\n",
    "\n",
    "# # Represent points as 2D image\n",
    "# row_max = np.max(stim[:,0])\n",
    "# col_max = np.max(stim[:,1])\n",
    "# im = np.zeros((row_max + 10, col_max + 10))\n",
    "# im[stim[:,0], stim[:,1]] = 1.0\n",
    "\n",
    "# plt.imshow(im, cmap=plt.get_cmap(\"gray\"))\n",
    "\n",
    "\n",
    "# apply gaussian filter\n",
    "h, w = im.shape\n",
    "out = np.zeros((int(h/2), int(w/2)), dtype=np.float64)\n",
    "g_im = gaussian_filter(im, sigma=1)\n",
    "plt.imshow(g_im, cmap=plt.get_cmap(\"gray\"))"
   ]
  },
  {
   "cell_type": "code",
   "execution_count": 10,
   "metadata": {},
   "outputs": [],
   "source": [
    "# # Represent points as 2D image\n",
    "# im = np.zeros((36,36))\n",
    "# im[stim[:,0], stim[:,1]] = 1.0\n",
    "# print(im)\n",
    "\n",
    "# fig, ax2 = plt.subplots()\n",
    "# ax2.imshow(im, cmap='gray_r')"
   ]
  },
  {
   "cell_type": "code",
   "execution_count": 11,
   "metadata": {},
   "outputs": [
    {
     "name": "stdout",
     "output_type": "stream",
     "text": [
      "(288, 432)\n",
      "(253, 379)\n",
      "225.46373803188354\n",
      "254.97450000001302\n"
     ]
    },
    {
     "data": {
      "text/plain": [
       "<matplotlib.image.AxesImage at 0x7feedddfeb90>"
      ]
     },
     "execution_count": 11,
     "metadata": {},
     "output_type": "execute_result"
    },
    {
     "data": {
      "image/png": "[encoded data removed]",
      "text/plain": [
       "<Figure size 432x288 with 1 Axes>"
      ]
     },
     "metadata": {
      "needs_background": "light"
     },
     "output_type": "display_data"
    },
    {
     "data": {
      "image/png": "[encoded data removed]",
      "text/plain": [
       "<Figure size 432x288 with 1 Axes>"
      ]
     },
     "metadata": {
      "needs_background": "light"
     },
     "output_type": "display_data"
    }
   ],
   "source": [
    "# Average Convolution\n",
    "\n",
    "def avg_conv_2d(im, filt):\n",
    "    out = signal.convolve2d(im, filt, mode='valid')\n",
    "    return out\n",
    "\n",
    "    \n",
    "# kernel = np.ones((6,6)).astype(float) / 36\n",
    "# out = avg_conv_2d(im, kernel)\n",
    "\n",
    "# fig, ax3 = plt.subplots()\n",
    "# ax3.imshow(out, cmap='gray_r')\n",
    "\n",
    "# kernel = np.ones((3,3)).astype(float) / 9\n",
    "# out = avg_conv_2d(im, kernel)\n",
    "\n",
    "# fig, ax3 = plt.subplots()\n",
    "# ax3.imshow(out, cmap='gray_r')\n",
    "\n",
    "\n",
    "print(g_im.shape)\n",
    "h, w = g_im.shape\n",
    "sf = 8\n",
    "k_h, k_w = int(h/sf), int(w/sf)\n",
    "kernel = np.ones((k_h, k_w)).astype(float) / (k_h*k_w)\n",
    "out = avg_conv_2d(g_im, kernel)\n",
    "print(out.shape)\n",
    "\n",
    "fig, ax3 = plt.subplots()\n",
    "ax3.imshow(out, cmap=plt.get_cmap(\"gray\"))\n",
    "\n",
    "print(np.min(out))\n",
    "\n",
    "print(np.max(out))\n",
    "\n",
    "bool_out = out <= 254.00\n",
    "# bool_out[bool_out >= 254.00] = 0\n",
    "# bool_out[bool_out < 254.00] = 1\n",
    "\n",
    "fig, ax3 = plt.subplots()\n",
    "ax3.imshow(bool_out, cmap=plt.get_cmap(\"gray\"))"
   ]
  },
  {
   "cell_type": "code",
   "execution_count": 12,
   "metadata": {},
   "outputs": [
    {
     "name": "stdout",
     "output_type": "stream",
     "text": [
      "[[0 0 0 ... 0 0 0]\n",
      " [0 0 0 ... 0 0 0]\n",
      " [0 0 0 ... 0 0 0]\n",
      " ...\n",
      " [0 0 0 ... 0 0 0]\n",
      " [0 0 0 ... 0 0 0]\n",
      " [0 0 0 ... 0 0 0]]\n",
      "4\n",
      "(288, 432)\n",
      "(288, 432)\n"
     ]
    },
    {
     "data": {
      "image/png": "[encoded data removed]",
      "text/plain": [
       "<Figure size 432x288 with 1 Axes>"
      ]
     },
     "metadata": {
      "needs_background": "light"
     },
     "output_type": "display_data"
    }
   ],
   "source": [
    "from scipy import ndimage\n",
    "import cv2\n",
    "labels, nb = ndimage.label(bool_out)\n",
    "plt.imshow(labels)\n",
    "print(labels)\n",
    "print(nb)\n",
    "\n",
    "resized_out = cv2.resize(labels.astype('float32'), (w, h))\n",
    "resized_out = resized_out.astype(int)\n",
    "print(g_im.shape)\n",
    "print(resized_out.shape)\n",
    "\n",
    "\n",
    "# plt.imshow(resized_out)"
   ]
  },
  {
   "cell_type": "code",
   "execution_count": 13,
   "metadata": {},
   "outputs": [
    {
     "data": {
      "text/plain": [
       "<matplotlib.image.AxesImage at 0x7feedea566d0>"
      ]
     },
     "execution_count": 13,
     "metadata": {},
     "output_type": "execute_result"
    },
    {
     "data": {
      "image/png": "[encoded data removed]",
      "text/plain": [
       "<Figure size 432x288 with 1 Axes>"
      ]
     },
     "metadata": {
      "needs_background": "light"
     },
     "output_type": "display_data"
    }
   ],
   "source": [
    "plt.imshow(resized_out)"
   ]
  },
  {
   "cell_type": "code",
   "execution_count": 14,
   "metadata": {},
   "outputs": [
    {
     "data": {
      "text/plain": [
       "array([0, 0, 0, 0, 0, 0, 0, 0, 0, 0, 0, 0, 0, 0, 0, 0, 0, 0, 0, 0, 0, 0,\n",
       "       0, 0, 0, 0, 0, 0, 0, 0, 0, 0, 0, 0, 0, 0, 0, 0, 0, 0, 0, 0, 0, 0,\n",
       "       0, 0, 0, 0, 0, 0, 0, 0, 0, 0, 0, 0, 0, 0, 0, 0, 0, 0, 0, 0, 0, 0,\n",
       "       0, 0, 0, 0, 0, 0, 0, 0, 0, 0, 0, 0, 0, 0, 0, 0, 0, 0, 0, 0, 0, 0,\n",
       "       0, 0, 0, 0, 0, 0, 0, 0, 0, 0, 0, 0, 0, 0, 0, 0, 0, 0, 0, 0, 0, 0,\n",
       "       0, 0, 0, 0, 0, 0, 0, 0, 0, 0, 0, 0, 0, 0, 0, 0, 0, 0, 0, 0, 0, 0,\n",
       "       0, 0, 0, 0, 0, 0, 0, 0, 0, 0, 0, 0, 0, 0, 0, 0, 0, 0, 0, 0, 0, 0,\n",
       "       0, 0, 0, 0, 0, 0, 0, 0, 0, 0, 0, 0, 0, 0, 0, 0, 0, 0, 0, 0, 0, 0,\n",
       "       0, 0, 0, 0, 0, 0, 0, 0, 0, 0, 0, 0, 0, 0, 0, 0, 0, 0, 0, 0, 0, 0,\n",
       "       0, 0, 0, 0, 0, 0, 0, 0, 0, 0, 0, 0, 0, 0, 0, 0, 0, 0, 0, 0, 0, 0,\n",
       "       0, 0, 0, 0, 0, 0, 0, 0, 0, 0, 0, 0, 0, 0, 0, 0, 0, 0, 0, 0, 0, 0,\n",
       "       0, 0, 0, 0, 0, 0, 0, 0, 0, 0, 0, 0, 0, 0, 0, 0, 0, 0, 0, 0, 0, 0,\n",
       "       0, 0, 0, 0, 0, 0, 0, 0, 0, 0, 0, 0, 0, 0, 0, 0, 0, 0, 0, 0, 0, 0,\n",
       "       0, 0, 0, 0, 0, 0, 0, 0, 0, 0, 0, 0, 0, 0, 0, 0, 0, 0, 0, 0, 0, 0,\n",
       "       0, 0, 0, 0, 0, 0, 0, 0, 0, 0, 0, 0, 0, 0, 0, 0, 0, 0, 0, 0, 0, 2,\n",
       "       4, 4, 4, 4, 4, 4, 4, 4, 4, 4, 4, 4, 4, 4, 4, 4, 4, 4, 4, 4, 4, 4,\n",
       "       4, 4, 4, 4, 4, 4, 4, 4, 4, 4, 4, 4, 4, 4, 4, 4, 4, 4, 4, 4, 4, 4,\n",
       "       4, 4, 4, 4, 4, 4, 4, 4, 4, 4, 4, 4, 4, 4, 4, 4, 4, 4, 4, 4, 4, 4,\n",
       "       4, 4, 4, 4, 4, 4, 4, 4, 4, 4, 4, 4, 4, 4, 4, 4, 4, 3, 3, 0, 0, 0,\n",
       "       0, 0, 0, 0, 0, 0, 0, 0, 0, 0, 0, 0, 0, 0])"
      ]
     },
     "execution_count": 14,
     "metadata": {},
     "output_type": "execute_result"
    }
   ],
   "source": [
    "resized_out[230]"
   ]
  },
  {
   "cell_type": "code",
   "execution_count": 15,
   "metadata": {},
   "outputs": [
    {
     "data": {
      "text/plain": [
       "array([0, 0, 0, 0, 0, 0, 0, 0, 0, 0, 0, 0, 0, 0, 1, 1, 1, 1, 1, 1, 1, 1,\n",
       "       1, 1, 1, 1, 1, 1, 1, 1, 1, 1, 1, 1, 1, 1, 1, 1, 1, 1, 1, 1, 1, 1,\n",
       "       1, 1, 1, 1, 1, 1, 1, 1, 1, 1, 1, 1, 1, 1, 1, 1, 1, 1, 1, 1, 1, 1,\n",
       "       1, 1, 1, 1, 1, 1, 1, 1, 1, 1, 1, 1, 1, 1, 1, 1, 1, 1, 1, 1, 1, 1,\n",
       "       1, 1, 1, 1, 1, 1, 1, 1, 1, 1, 1, 1, 1, 1, 1, 1, 1, 1, 1, 1, 1, 1,\n",
       "       1, 1, 1, 1, 1, 1, 1, 1, 1, 1, 0, 0, 0, 0, 0, 0, 0, 0, 0, 0, 0, 0,\n",
       "       0, 0, 0, 0, 0, 0, 0, 0, 0, 0, 0, 0, 0, 0, 0, 0, 0, 0, 0, 0, 0, 0,\n",
       "       0, 0, 0, 0, 0, 0, 0, 0, 0, 0, 0, 0, 0, 0, 0, 0, 0, 0, 0, 0, 0, 0,\n",
       "       0, 0, 0, 0, 0, 0, 0, 0, 0, 0, 0, 0, 0, 0, 0, 0, 0, 0, 0, 0, 0, 0,\n",
       "       0, 0, 0, 0, 0, 0, 0, 0, 0, 0, 0, 0, 0, 0, 0, 0, 0, 0, 0, 0, 0, 0,\n",
       "       0, 0, 0, 0, 0, 0, 0, 0, 0, 0, 0, 0, 0, 0, 0, 0, 0, 0, 0, 0, 0, 0,\n",
       "       0, 0, 0, 0, 0, 0, 0, 0, 0, 0, 0, 0, 0, 0, 0, 0, 0, 0, 0, 0, 0, 0,\n",
       "       0, 0, 0, 0, 0, 0, 0, 0, 0, 0, 0, 0, 0, 0, 0, 0, 0, 0, 0, 0, 0, 0,\n",
       "       0, 0, 0, 0, 0, 0, 0, 0, 0, 0, 0, 0, 0, 0, 0, 0, 0, 0, 0, 0, 0, 0,\n",
       "       0, 0, 0, 0, 0, 0, 0, 0, 0, 0, 0, 0, 0, 0, 0, 0, 0, 0, 0, 0, 0, 0,\n",
       "       0, 0, 0, 0, 0, 0, 0, 0, 0, 0, 0, 0, 0, 0, 0, 0, 0, 0, 0, 0, 0, 0,\n",
       "       0, 0, 0, 0, 0, 0, 0, 0, 0, 0, 0, 0, 0, 0, 0, 0, 0, 0, 0, 0, 0, 0,\n",
       "       0, 0, 0, 0, 0], dtype=int32)"
      ]
     },
     "execution_count": 15,
     "metadata": {},
     "output_type": "execute_result"
    }
   ],
   "source": [
    "labels[20]"
   ]
  },
  {
   "cell_type": "code",
   "execution_count": 16,
   "metadata": {},
   "outputs": [
    {
     "name": "stdout",
     "output_type": "stream",
     "text": [
      "254.97449999999998\n",
      "True\n",
      "False\n"
     ]
    },
    {
     "data": {
      "image/png": "[encoded data removed]",
      "text/plain": [
       "<Figure size 432x288 with 1 Axes>"
      ]
     },
     "metadata": {
      "needs_background": "light"
     },
     "output_type": "display_data"
    }
   ],
   "source": [
    "print(np.max(im))\n",
    "bool_im = im <= 254.00\n",
    "# bool_im[50]\n",
    "fig, ax3 = plt.subplots()\n",
    "ax3.imshow(bool_im, cmap=plt.get_cmap(\"gray\"))\n",
    "\n",
    "print(np.max(bool_im))\n",
    "print(np.min(bool_im))"
   ]
  },
  {
   "cell_type": "code",
   "execution_count": 17,
   "metadata": {},
   "outputs": [
    {
     "name": "stdout",
     "output_type": "stream",
     "text": [
      "int64\n"
     ]
    },
    {
     "data": {
      "text/plain": [
       "<matplotlib.image.AxesImage at 0x7feede0cc550>"
      ]
     },
     "execution_count": 17,
     "metadata": {},
     "output_type": "execute_result"
    },
    {
     "data": {
      "image/png": "[encoded data removed]",
      "text/plain": [
       "<Figure size 432x288 with 1 Axes>"
      ]
     },
     "metadata": {
      "needs_background": "light"
     },
     "output_type": "display_data"
    }
   ],
   "source": [
    "final = np.multiply(resized_out, bool_im)\n",
    "print(final.dtype)\n",
    "\n",
    "fig, ax3 = plt.subplots()\n",
    "ax3.imshow(final)"
   ]
  },
  {
   "cell_type": "code",
   "execution_count": 98,
   "metadata": {},
   "outputs": [
    {
     "ename": "IndexError",
     "evalue": "index 352 is out of bounds for axis 0 with size 288",
     "output_type": "error",
     "traceback": [
      "\u001b[0;31m---------------------------------------------------------------------------\u001b[0m",
      "\u001b[0;31mIndexError\u001b[0m                                Traceback (most recent call last)",
      "\u001b[0;32m<ipython-input-98-d85b7b685879>\u001b[0m in \u001b[0;36m<module>\u001b[0;34m\u001b[0m\n\u001b[1;32m      3\u001b[0m \u001b[0;32mfor\u001b[0m \u001b[0mi\u001b[0m \u001b[0;32min\u001b[0m \u001b[0mrange\u001b[0m\u001b[0;34m(\u001b[0m\u001b[0mstim\u001b[0m\u001b[0;34m.\u001b[0m\u001b[0mshape\u001b[0m\u001b[0;34m[\u001b[0m\u001b[0;36m0\u001b[0m\u001b[0;34m]\u001b[0m\u001b[0;34m)\u001b[0m\u001b[0;34m:\u001b[0m\u001b[0;34m\u001b[0m\u001b[0;34m\u001b[0m\u001b[0m\n\u001b[1;32m      4\u001b[0m     \u001b[0mx\u001b[0m\u001b[0;34m,\u001b[0m \u001b[0my\u001b[0m\u001b[0;34m,\u001b[0m \u001b[0mlabel\u001b[0m \u001b[0;34m=\u001b[0m \u001b[0mstim\u001b[0m\u001b[0;34m[\u001b[0m\u001b[0mi\u001b[0m\u001b[0;34m]\u001b[0m\u001b[0;34m\u001b[0m\u001b[0;34m\u001b[0m\u001b[0m\n\u001b[0;32m----> 5\u001b[0;31m     \u001b[0mpred_label\u001b[0m \u001b[0;34m=\u001b[0m \u001b[0mfinal\u001b[0m\u001b[0;34m[\u001b[0m\u001b[0mx\u001b[0m\u001b[0;34m,\u001b[0m \u001b[0my\u001b[0m\u001b[0;34m]\u001b[0m\u001b[0;34m\u001b[0m\u001b[0;34m\u001b[0m\u001b[0m\n\u001b[0m\u001b[1;32m      6\u001b[0m     \u001b[0mpred\u001b[0m\u001b[0;34m[\u001b[0m\u001b[0mi\u001b[0m\u001b[0;34m,\u001b[0m \u001b[0;34m-\u001b[0m\u001b[0;36m1\u001b[0m\u001b[0;34m]\u001b[0m \u001b[0;34m=\u001b[0m \u001b[0mpred_label\u001b[0m\u001b[0;34m\u001b[0m\u001b[0;34m\u001b[0m\u001b[0m\n\u001b[1;32m      7\u001b[0m \u001b[0;34m\u001b[0m\u001b[0m\n",
      "\u001b[0;31mIndexError\u001b[0m: index 352 is out of bounds for axis 0 with size 288"
     ]
    }
   ],
   "source": [
    "# generate predictions\n",
    "pred = np.copy(stim)\n",
    "for i in range(stim.shape[0]):\n",
    "    x, y, label = stim[i]\n",
    "    pred_label = final[x, y]\n",
    "    pred[i, -1] = pred_label\n",
    "    \n",
    "print(\"stim: \", stim)\n",
    "print(\"pred: \", pred)"
   ]
  },
  {
   "cell_type": "code",
   "execution_count": null,
   "metadata": {},
   "outputs": [],
   "source": []
  }
 ],
 "metadata": {
  "kernelspec": {
   "display_name": "Python 3",
   "language": "python",
   "name": "python3"
  },
  "language_info": {
   "codemirror_mode": {
    "name": "ipython",
    "version": 3
   },
   "file_extension": ".py",
   "mimetype": "text/x-python",
   "name": "python",
   "nbconvert_exporter": "python",
   "pygments_lexer": "ipython3",
   "version": "3.7.9"
  }
 },
 "nbformat": 4,
 "nbformat_minor": 4
}
