{
 "cells": [
  {
   "cell_type": "code",
   "execution_count": 1,
   "metadata": {},
   "outputs": [],
   "source": [
    "import numpy as np\n",
    "from pathlib import Path\n",
    "from matplotlib import pyplot as plt\n",
    "import torch\n",
    "from scipy import signal"
   ]
  },
  {
   "cell_type": "code",
   "execution_count": 9,
   "metadata": {},
   "outputs": [
    {
     "name": "stdout",
     "output_type": "stream",
     "text": [
      "# of Stimuli:  18\n",
      "Stimuli Shape:  (20, 3)\n"
     ]
    }
   ],
   "source": [
    "# Load data\n",
    "raw_data_path = list(Path(\"../stimuli/obvious_gaussian_clusters\").iterdir())\n",
    "\n",
    "data = []\n",
    " \n",
    "for path in raw_data_path:\n",
    "    data.append(np.load(path))\n",
    "    \n",
    "print(\"# of Stimuli: \", len(data))\n",
    "\n",
    "stim = data[12]\n",
    "\n",
    "print(\"Stimuli Shape: \", stim.shape)\n",
    "\n",
    "# # Normalize Data + convert to int\n",
    "# stim[:,0:2] = (stim[:,0:2]-np.min(stim[:,0:2])) * 10/(np.max(stim[:,0:2])-np.min(stim[:,0:2]))\n",
    "# stim = stim.astype(int)"
   ]
  },
  {
   "cell_type": "code",
   "execution_count": 23,
   "metadata": {},
   "outputs": [
    {
     "data": {
      "image/png": "[encoded data removed]",
      "text/plain": [
       "<Figure size 432x288 with 1 Axes>"
      ]
     },
     "metadata": {
      "needs_background": "light"
     },
     "output_type": "display_data"
    },
    {
     "data": {
      "image/png": "[encoded data removed]",
      "text/plain": [
       "<Figure size 432x288 with 1 Axes>"
      ]
     },
     "metadata": {
      "needs_background": "light"
     },
     "output_type": "display_data"
    }
   ],
   "source": [
    "# Visualize Stimuli\n",
    "colors = np.array(['red', 'blue', 'green', 'magenta', 'cyan', 'pink'])\n",
    "def plot_stimuli(X):\n",
    "    fig, ax = plt.subplots()\n",
    "    c_idx = X[:, 2].astype(int)        \n",
    "    c = colors[c_idx]\n",
    "        \n",
    "    ax.scatter(X[:, 0], X[:, 1], color=colors[X[:, 2].astype(int)])\n",
    "    return ax\n",
    "\n",
    "plot_stimuli(stim)\n",
    "\n",
    "# Normalize Data + convert to int\n",
    "# I should scale to a different number\n",
    "stim[:,0:2] = (stim[:,0:2]-np.min(stim[:,0:2])) * 30/(np.max(stim[:,0:2])-np.min(stim[:,0:2]))\n",
    "# stim = stim.astype(int)\n",
    "stim1 = np.round(stim).astype(int)\n",
    "plot_stimuli(stim1)\n",
    "\n",
    "stim = stim1"
   ]
  },
  {
   "cell_type": "code",
   "execution_count": 24,
   "metadata": {},
   "outputs": [
    {
     "name": "stdout",
     "output_type": "stream",
     "text": [
      "[[0. 0. 0. ... 0. 0. 0.]\n",
      " [0. 0. 0. ... 0. 0. 0.]\n",
      " [0. 0. 0. ... 0. 0. 0.]\n",
      " ...\n",
      " [0. 0. 0. ... 0. 0. 0.]\n",
      " [0. 0. 0. ... 0. 0. 0.]\n",
      " [0. 0. 0. ... 0. 0. 0.]]\n"
     ]
    },
    {
     "data": {
      "text/plain": [
       "<matplotlib.image.AxesImage at 0x7ff8f10b9450>"
      ]
     },
     "execution_count": 24,
     "metadata": {},
     "output_type": "execute_result"
    },
    {
     "data": {
      "image/png": "[encoded data removed]",
      "text/plain": [
       "<Figure size 432x288 with 1 Axes>"
      ]
     },
     "metadata": {
      "needs_background": "light"
     },
     "output_type": "display_data"
    }
   ],
   "source": [
    "# Represent points as 2D image\n",
    "im = np.zeros((36,36))\n",
    "im[stim[:,0], stim[:,1]] = 1.0\n",
    "print(im)\n",
    "\n",
    "fig, ax2 = plt.subplots()\n",
    "ax2.imshow(im, cmap='gray_r')"
   ]
  },
  {
   "cell_type": "code",
   "execution_count": 29,
   "metadata": {},
   "outputs": [
    {
     "data": {
      "text/plain": [
       "<matplotlib.image.AxesImage at 0x7ff8f12f5450>"
      ]
     },
     "execution_count": 29,
     "metadata": {},
     "output_type": "execute_result"
    },
    {
     "data": {
      "image/png": "[encoded data removed]",
      "text/plain": [
       "<Figure size 432x288 with 1 Axes>"
      ]
     },
     "metadata": {
      "needs_background": "light"
     },
     "output_type": "display_data"
    },
    {
     "data": {
      "image/png": "[encoded data removed]",
      "text/plain": [
       "<Figure size 432x288 with 1 Axes>"
      ]
     },
     "metadata": {
      "needs_background": "light"
     },
     "output_type": "display_data"
    }
   ],
   "source": [
    "# Average Convolution\n",
    "\n",
    "# kernel = np.ones((6,6)).astype(float) / 36\n",
    "\n",
    "def avg_conv_2d(im, filt):\n",
    "    out = np.zeros((4,4)).astype(float)\n",
    "    \n",
    "#     for i in range(out.shape[0]):\n",
    "#         for j in range(out.shape[1]):\n",
    "#             out[i,j] = signal.convolve2d(im[i:i+3, j:j+3], filt, mode='valid')\n",
    "    out = signal.convolve2d(im, filt, mode='valid')\n",
    "    return out\n",
    "\n",
    "    \n",
    "kernel = np.ones((6,6)).astype(float) / 36\n",
    "out = avg_conv_2d(im, kernel)\n",
    "\n",
    "fig, ax3 = plt.subplots()\n",
    "ax3.imshow(out, cmap='gray_r')\n",
    "\n",
    "kernel = np.ones((3,3)).astype(float) / 9\n",
    "out = avg_conv_2d(im, kernel)\n",
    "\n",
    "fig, ax3 = plt.subplots()\n",
    "ax3.imshow(out, cmap='gray_r')"
   ]
  },
  {
   "cell_type": "code",
   "execution_count": null,
   "metadata": {},
   "outputs": [],
   "source": []
  },
  {
   "cell_type": "code",
   "execution_count": null,
   "metadata": {},
   "outputs": [],
   "source": []
  }
 ],
 "metadata": {
  "kernelspec": {
   "display_name": "Python 3",
   "language": "python",
   "name": "python3"
  },
  "language_info": {
   "codemirror_mode": {
    "name": "ipython",
    "version": 3
   },
   "file_extension": ".py",
   "mimetype": "text/x-python",
   "name": "python",
   "nbconvert_exporter": "python",
   "pygments_lexer": "ipython3",
   "version": "3.7.9"
  }
 },
 "nbformat": 4,
 "nbformat_minor": 4
}
