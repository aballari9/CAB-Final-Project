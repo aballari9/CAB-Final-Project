{
  "nbformat": 4,
  "nbformat_minor": 0,
  "metadata": {
    "colab": {
      "name": "autoencoder_cluster_image+DBScan.ipynb",
      "provenance": []
    },
    "kernelspec": {
      "name": "python3",
      "display_name": "Python 3"
    },
    "language_info": {
      "name": "python"
    }
  },
  "cells": [
    {
      "cell_type": "code",
      "metadata": {
        "id": "Wndv9G7bQtWs",
        "colab": {
          "base_uri": "https://localhost:8080/"
        },
        "outputId": "84fda085-fdef-41fe-ee1e-b763e60904f7"
      },
      "source": [
        "from google.colab import drive\n",
        "import json\n",
        "import matplotlib.pyplot as plt\n",
        "drive.mount('/content/drive')\n",
        "import numpy as np"
      ],
      "execution_count": 1,
      "outputs": [
        {
          "output_type": "stream",
          "text": [
            "Drive already mounted at /content/drive; to attempt to forcibly remount, call drive.mount(\"/content/drive\", force_remount=True).\n"
          ],
          "name": "stdout"
        }
      ]
    },
    {
      "cell_type": "markdown",
      "metadata": {
        "id": "eka6RWquymGQ"
      },
      "source": [
        "Human Clustering of Points"
      ]
    },
    {
      "cell_type": "code",
      "metadata": {
        "id": "rcJZ63FRykQj"
      },
      "source": [
        "clustering_data = '/content/drive/MyDrive/Clustering Data'"
      ],
      "execution_count": 2,
      "outputs": []
    },
    {
      "cell_type": "markdown",
      "metadata": {
        "id": "wtw5qDvXyX1R"
      },
      "source": [
        "Function for storing the data point distribution as an image per subject per trial"
      ]
    },
    {
      "cell_type": "code",
      "metadata": {
        "id": "Y7v-GCUQVvsl"
      },
      "source": [
        "def one_sub_one_trial(subject, filename):\n",
        " \n",
        "\n",
        "  # color = ['blue', 'red', 'green', 'yellow', 'purple', 'brown']\n",
        "  # col = 0\n",
        "  for trial in range(len(subject)):\n",
        "    fig = plt.figure(figsize=(1,5/8))\n",
        "    plt.xlim((0,800))\n",
        "    plt.ylim((0,500))\n",
        "    plt.axis('off')\n",
        "\n",
        "    clusters = subject[trial]['clusters']\n",
        "    X = []\n",
        "    Y = []\n",
        "    for cluster in (clusters):\n",
        "      for dot in cluster:\n",
        "        X.append(dot['x'])\n",
        "        Y.append(dot['y'])\n",
        "       \n",
        "    plt.scatter(X,Y, c ='black', s = 1/800)\n",
        "\n",
        "    fig.savefig('/content/drive/MyDrive/small_cluster_image/'+str(filename)+'_trial_'+str(trial)+'.png')\n",
        "    plt.close()\n",
        " \n"
      ],
      "execution_count": 3,
      "outputs": []
    },
    {
      "cell_type": "markdown",
      "metadata": {
        "id": "J3NCzUq6zAxS"
      },
      "source": [
        "Load the datapoints and then export them as images (Already in the github)"
      ]
    },
    {
      "cell_type": "code",
      "metadata": {
        "id": "bucDMyoTRuS-"
      },
      "source": [
        "# import os\n",
        "\n",
        "# subject = 0\n",
        "# for filename in os.listdir(clustering_data):\n",
        "#     if filename.endswith('.json'):\n",
        "#         with open(os.path.join(clustering_data, filename)) as f:\n",
        "#             subject = json.load(f)\n",
        "            \n",
        "#             one_sub_one_trial(subject, filename[:-5])\n",
        "          \n",
        "            "
      ],
      "execution_count": 4,
      "outputs": []
    },
    {
      "cell_type": "markdown",
      "metadata": {
        "id": "d3At_34czd43"
      },
      "source": [
        "Human clustering points in images"
      ]
    },
    {
      "cell_type": "code",
      "metadata": {
        "id": "NWV3OvoS1viY"
      },
      "source": [
        "clustering_image = '/content/drive/MyDrive/small_cluster_image/'"
      ],
      "execution_count": 5,
      "outputs": []
    },
    {
      "cell_type": "code",
      "metadata": {
        "id": "l6E6ODK416-D"
      },
      "source": [
        "from PIL import Image\n",
        "import os\n",
        "import numpy as np"
      ],
      "execution_count": 6,
      "outputs": []
    },
    {
      "cell_type": "code",
      "metadata": {
        "id": "RWlJPUdotzgX"
      },
      "source": [
        "dataset = list(filter(lambda x: '.png' in x, os.listdir(clustering_image)))"
      ],
      "execution_count": 7,
      "outputs": []
    },
    {
      "cell_type": "code",
      "metadata": {
        "colab": {
          "base_uri": "https://localhost:8080/"
        },
        "id": "MTCJuyXt0dy_",
        "outputId": "bc38fa03-0dfe-4229-cad5-2731cec84bb9"
      },
      "source": [
        "data = np.array([np.array(Image.open(clustering_image + fname).convert('L')) for fname in dataset])\n",
        "print('number of images: ', len(data))"
      ],
      "execution_count": 39,
      "outputs": [
        {
          "output_type": "stream",
          "text": [
            "number of images:  5264\n"
          ],
          "name": "stdout"
        }
      ]
    },
    {
      "cell_type": "markdown",
      "metadata": {
        "id": "v2UZHSyIzrP8"
      },
      "source": [
        "Divide the dataset into training and testing images"
      ]
    },
    {
      "cell_type": "code",
      "metadata": {
        "colab": {
          "base_uri": "https://localhost:8080/"
        },
        "id": "h-dYV--a3Tds",
        "outputId": "cd8bc625-5e7f-4dc3-9aad-60d736ac0d70"
      },
      "source": [
        "n = len(data)\n",
        "x_test = data[5 * n//6:]\n",
        "x_train = data[:n//6 * 5]\n",
        "print('x_test shape: ', x_test.shape)\n",
        "print('x_train shape: ', x_train.shape)\n",
        "x_train = x_train.astype('float32') / 255.\n",
        "x_test = x_test.astype('float32') / 255.\n",
        "x_train = np.reshape(x_train, (len(x_train), 45,72, 1))\n",
        "x_test = np.reshape(x_test, (len(x_test), 45, 72, 1))\n"
      ],
      "execution_count": 40,
      "outputs": [
        {
          "output_type": "stream",
          "text": [
            "x_test shape:  (878, 45, 72)\n",
            "x_train shape:  (4385, 45, 72)\n"
          ],
          "name": "stdout"
        }
      ]
    },
    {
      "cell_type": "code",
      "metadata": {
        "colab": {
          "base_uri": "https://localhost:8080/"
        },
        "id": "v2UfWfeQ7yhx",
        "outputId": "addaf140-2ac4-4a4c-aee1-aaa044bad3b8"
      },
      "source": [
        "print(x_test.shape)"
      ],
      "execution_count": 41,
      "outputs": [
        {
          "output_type": "stream",
          "text": [
            "(878, 45, 72, 1)\n"
          ],
          "name": "stdout"
        }
      ]
    },
    {
      "cell_type": "markdown",
      "metadata": {
        "id": "QUDEIzm2z3h2"
      },
      "source": [
        "Show some original images"
      ]
    },
    {
      "cell_type": "code",
      "metadata": {
        "colab": {
          "base_uri": "https://localhost:8080/",
          "height": 94
        },
        "id": "T3FKM85o4zMF",
        "outputId": "732563de-5ae4-40a8-926a-d6509d4a14bb"
      },
      "source": [
        "n = 10\n",
        "plt.figure(figsize=(20, 6))\n",
        "for i in range(n):\n",
        "    # Digit\n",
        "    ax = plt.subplot(3, n, i + 1)\n",
        "    plt.imshow(data[i])\n",
        "    plt.gray()\n",
        "    ax.get_xaxis().set_visible(False)\n",
        "    ax.get_yaxis().set_visible(False)"
      ],
      "execution_count": 42,
      "outputs": [
        {
          "output_type": "display_data",
          "data": {
            "image/png": "[encoded data removed]",
            "text/plain": [
              "<Figure size 1440x432 with 10 Axes>"
            ]
          },
          "metadata": {
            "tags": [],
            "needs_background": "light"
          }
        }
      ]
    },
    {
      "cell_type": "code",
      "metadata": {
        "id": "WyQiy5fbvD1S"
      },
      "source": [
        "import keras\n",
        "from keras import layers\n",
        "from keras.callbacks import EarlyStopping"
      ],
      "execution_count": 43,
      "outputs": []
    },
    {
      "cell_type": "markdown",
      "metadata": {
        "id": "lXIm-sLy0Aen"
      },
      "source": [
        "Build an autoencoder for compressing images"
      ]
    },
    {
      "cell_type": "code",
      "metadata": {
        "id": "hx_kD0XYv-S7"
      },
      "source": [
        "input_img = keras.Input(shape=(45, 72, 1))\n",
        "\n",
        "x = layers.Conv2D(16, (3, 3), activation='relu', padding='same')(input_img)\n",
        "x = layers.MaxPooling2D((3, 3), padding='same')(x)\n",
        "x = layers.Conv2D(16, (3, 3), activation='relu', padding='same')(x)\n",
        "encoded = layers.MaxPooling2D((3, 3), padding='same')(x)\n",
        "\n",
        "# At this point the representation is (7, 7, 32)\n",
        "\n",
        "x = layers.Conv2D(16, (3, 3), activation='relu', padding='same')(encoded)\n",
        "x = layers.UpSampling2D((3, 3))(x)\n",
        "x = layers.Conv2D(16, (3, 3), activation='relu', padding='same')(x)\n",
        "x = layers.UpSampling2D((3, 3))(x)\n",
        "decoded = layers.Conv2D(1, (3, 3), activation='sigmoid', padding='same')(x)\n",
        "encoder = keras.Model(input_img, encoded)\n",
        "autoencoder = keras.Model(input_img, decoded)\n",
        "\n",
        "autoencoder.compile(optimizer='adam', loss='binary_crossentropy')"
      ],
      "execution_count": 44,
      "outputs": []
    },
    {
      "cell_type": "markdown",
      "metadata": {
        "id": "3sBYwGfW0IRs"
      },
      "source": [
        "Show the architecture of the autoencoder"
      ]
    },
    {
      "cell_type": "code",
      "metadata": {
        "colab": {
          "base_uri": "https://localhost:8080/"
        },
        "id": "nEuGCc8gM-1b",
        "outputId": "0efc4c89-c86c-41fb-fc55-0cd200b1fe6a"
      },
      "source": [
        "autoencoder.summary()"
      ],
      "execution_count": 45,
      "outputs": [
        {
          "output_type": "stream",
          "text": [
            "Model: \"model_3\"\n",
            "_________________________________________________________________\n",
            "Layer (type)                 Output Shape              Param #   \n",
            "=================================================================\n",
            "input_2 (InputLayer)         [(None, 45, 72, 1)]       0         \n",
            "_________________________________________________________________\n",
            "conv2d_5 (Conv2D)            (None, 45, 72, 16)        160       \n",
            "_________________________________________________________________\n",
            "max_pooling2d_2 (MaxPooling2 (None, 15, 24, 16)        0         \n",
            "_________________________________________________________________\n",
            "conv2d_6 (Conv2D)            (None, 15, 24, 16)        2320      \n",
            "_________________________________________________________________\n",
            "max_pooling2d_3 (MaxPooling2 (None, 5, 8, 16)          0         \n",
            "_________________________________________________________________\n",
            "conv2d_7 (Conv2D)            (None, 5, 8, 16)          2320      \n",
            "_________________________________________________________________\n",
            "up_sampling2d_2 (UpSampling2 (None, 15, 24, 16)        0         \n",
            "_________________________________________________________________\n",
            "conv2d_8 (Conv2D)            (None, 15, 24, 16)        2320      \n",
            "_________________________________________________________________\n",
            "up_sampling2d_3 (UpSampling2 (None, 45, 72, 16)        0         \n",
            "_________________________________________________________________\n",
            "conv2d_9 (Conv2D)            (None, 45, 72, 1)         145       \n",
            "=================================================================\n",
            "Total params: 7,265\n",
            "Trainable params: 7,265\n",
            "Non-trainable params: 0\n",
            "_________________________________________________________________\n"
          ],
          "name": "stdout"
        }
      ]
    },
    {
      "cell_type": "code",
      "metadata": {
        "colab": {
          "base_uri": "https://localhost:8080/"
        },
        "id": "-97jpGaSwk-o",
        "outputId": "c7380759-8910-49a8-8e4f-2b3512e5ba46"
      },
      "source": [
        "autoencoder.fit(x_train, x_train,\n",
        "                epochs=200,\n",
        "                batch_size=32,\n",
        "                shuffle=True,\n",
        "                validation_data=(x_test, x_test),\n",
        "                callbacks=[EarlyStopping(monitor=\"val_loss\", patience=10, verbose=0, mode=\"auto\", restore_best_weights=True)])"
      ],
      "execution_count": 46,
      "outputs": [
        {
          "output_type": "stream",
          "text": [
            "Epoch 1/200\n",
            "138/138 [==============================] - 21s 152ms/step - loss: 0.1826 - val_loss: 0.0078\n",
            "Epoch 2/200\n",
            "138/138 [==============================] - 21s 151ms/step - loss: 0.0073 - val_loss: 0.0071\n",
            "Epoch 3/200\n",
            "138/138 [==============================] - 21s 151ms/step - loss: 0.0069 - val_loss: 0.0070\n",
            "Epoch 4/200\n",
            "138/138 [==============================] - 21s 152ms/step - loss: 0.0069 - val_loss: 0.0070\n",
            "Epoch 5/200\n",
            "138/138 [==============================] - 21s 152ms/step - loss: 0.0069 - val_loss: 0.0070\n",
            "Epoch 6/200\n",
            "138/138 [==============================] - 21s 153ms/step - loss: 0.0069 - val_loss: 0.0071\n",
            "Epoch 7/200\n",
            "138/138 [==============================] - 21s 153ms/step - loss: 0.0069 - val_loss: 0.0070\n",
            "Epoch 8/200\n",
            "138/138 [==============================] - 21s 153ms/step - loss: 0.0069 - val_loss: 0.0070\n",
            "Epoch 9/200\n",
            "138/138 [==============================] - 21s 154ms/step - loss: 0.0069 - val_loss: 0.0070\n",
            "Epoch 10/200\n",
            "138/138 [==============================] - 21s 154ms/step - loss: 0.0070 - val_loss: 0.0069\n",
            "Epoch 11/200\n",
            "138/138 [==============================] - 21s 155ms/step - loss: 0.0069 - val_loss: 0.0070\n",
            "Epoch 12/200\n",
            "138/138 [==============================] - 21s 155ms/step - loss: 0.0069 - val_loss: 0.0070\n",
            "Epoch 13/200\n",
            "138/138 [==============================] - 21s 155ms/step - loss: 0.0070 - val_loss: 0.0070\n",
            "Epoch 14/200\n",
            "138/138 [==============================] - 21s 154ms/step - loss: 0.0068 - val_loss: 0.0070\n",
            "Epoch 15/200\n",
            "138/138 [==============================] - 21s 156ms/step - loss: 0.0069 - val_loss: 0.0069\n",
            "Epoch 16/200\n",
            "138/138 [==============================] - 21s 155ms/step - loss: 0.0069 - val_loss: 0.0070\n",
            "Epoch 17/200\n",
            "138/138 [==============================] - 22s 156ms/step - loss: 0.0069 - val_loss: 0.0070\n",
            "Epoch 18/200\n",
            "138/138 [==============================] - 22s 156ms/step - loss: 0.0069 - val_loss: 0.0069\n",
            "Epoch 19/200\n",
            "138/138 [==============================] - 22s 156ms/step - loss: 0.0069 - val_loss: 0.0070\n",
            "Epoch 20/200\n",
            "138/138 [==============================] - 22s 156ms/step - loss: 0.0069 - val_loss: 0.0069\n",
            "Epoch 21/200\n",
            "138/138 [==============================] - 21s 155ms/step - loss: 0.0069 - val_loss: 0.0070\n",
            "Epoch 22/200\n",
            "138/138 [==============================] - 22s 156ms/step - loss: 0.0069 - val_loss: 0.0070\n",
            "Epoch 23/200\n",
            "138/138 [==============================] - 22s 156ms/step - loss: 0.0069 - val_loss: 0.0069\n",
            "Epoch 24/200\n",
            "138/138 [==============================] - 22s 156ms/step - loss: 0.0069 - val_loss: 0.0070\n",
            "Epoch 25/200\n",
            "138/138 [==============================] - 21s 156ms/step - loss: 0.0068 - val_loss: 0.0069\n",
            "Epoch 26/200\n",
            "138/138 [==============================] - 21s 155ms/step - loss: 0.0069 - val_loss: 0.0069\n",
            "Epoch 27/200\n",
            "138/138 [==============================] - 21s 155ms/step - loss: 0.0068 - val_loss: 0.0070\n",
            "Epoch 28/200\n",
            "138/138 [==============================] - 21s 154ms/step - loss: 0.0068 - val_loss: 0.0069\n",
            "Epoch 29/200\n",
            "138/138 [==============================] - 21s 155ms/step - loss: 0.0068 - val_loss: 0.0069\n",
            "Epoch 30/200\n",
            "138/138 [==============================] - 21s 156ms/step - loss: 0.0069 - val_loss: 0.0069\n",
            "Epoch 31/200\n",
            "138/138 [==============================] - 21s 156ms/step - loss: 0.0068 - val_loss: 0.0070\n",
            "Epoch 32/200\n",
            "138/138 [==============================] - 22s 156ms/step - loss: 0.0068 - val_loss: 0.0069\n",
            "Epoch 33/200\n",
            "138/138 [==============================] - 22s 156ms/step - loss: 0.0067 - val_loss: 0.0068\n",
            "Epoch 34/200\n",
            "138/138 [==============================] - 21s 156ms/step - loss: 0.0067 - val_loss: 0.0068\n",
            "Epoch 35/200\n",
            "138/138 [==============================] - 22s 157ms/step - loss: 0.0066 - val_loss: 0.0066\n",
            "Epoch 36/200\n",
            "138/138 [==============================] - 21s 156ms/step - loss: 0.0065 - val_loss: 0.0065\n",
            "Epoch 37/200\n",
            "138/138 [==============================] - 21s 155ms/step - loss: 0.0064 - val_loss: 0.0066\n",
            "Epoch 38/200\n",
            "138/138 [==============================] - 21s 155ms/step - loss: 0.0065 - val_loss: 0.0065\n",
            "Epoch 39/200\n",
            "138/138 [==============================] - 21s 155ms/step - loss: 0.0065 - val_loss: 0.0064\n",
            "Epoch 40/200\n",
            "138/138 [==============================] - 22s 156ms/step - loss: 0.0063 - val_loss: 0.0065\n",
            "Epoch 41/200\n",
            "138/138 [==============================] - 22s 158ms/step - loss: 0.0063 - val_loss: 0.0063\n",
            "Epoch 42/200\n",
            "138/138 [==============================] - 22s 156ms/step - loss: 0.0062 - val_loss: 0.0063\n",
            "Epoch 43/200\n",
            "138/138 [==============================] - 22s 156ms/step - loss: 0.0062 - val_loss: 0.0064\n",
            "Epoch 44/200\n",
            "138/138 [==============================] - 22s 156ms/step - loss: 0.0062 - val_loss: 0.0062\n",
            "Epoch 45/200\n",
            "138/138 [==============================] - 22s 156ms/step - loss: 0.0062 - val_loss: 0.0062\n",
            "Epoch 46/200\n",
            "138/138 [==============================] - 22s 156ms/step - loss: 0.0061 - val_loss: 0.0062\n",
            "Epoch 47/200\n",
            "138/138 [==============================] - 22s 157ms/step - loss: 0.0061 - val_loss: 0.0061\n",
            "Epoch 48/200\n",
            "138/138 [==============================] - 22s 158ms/step - loss: 0.0061 - val_loss: 0.0062\n",
            "Epoch 49/200\n",
            "138/138 [==============================] - 22s 158ms/step - loss: 0.0060 - val_loss: 0.0063\n",
            "Epoch 50/200\n",
            "138/138 [==============================] - 22s 157ms/step - loss: 0.0061 - val_loss: 0.0061\n",
            "Epoch 51/200\n",
            "138/138 [==============================] - 22s 158ms/step - loss: 0.0059 - val_loss: 0.0061\n",
            "Epoch 52/200\n",
            "138/138 [==============================] - 22s 158ms/step - loss: 0.0060 - val_loss: 0.0061\n",
            "Epoch 53/200\n",
            "138/138 [==============================] - 22s 157ms/step - loss: 0.0059 - val_loss: 0.0063\n",
            "Epoch 54/200\n",
            "138/138 [==============================] - 22s 157ms/step - loss: 0.0060 - val_loss: 0.0060\n",
            "Epoch 55/200\n",
            "138/138 [==============================] - 22s 158ms/step - loss: 0.0060 - val_loss: 0.0060\n",
            "Epoch 56/200\n",
            "138/138 [==============================] - 22s 158ms/step - loss: 0.0059 - val_loss: 0.0060\n",
            "Epoch 57/200\n",
            "138/138 [==============================] - 22s 157ms/step - loss: 0.0059 - val_loss: 0.0060\n",
            "Epoch 58/200\n",
            "138/138 [==============================] - 22s 157ms/step - loss: 0.0059 - val_loss: 0.0060\n",
            "Epoch 59/200\n",
            "138/138 [==============================] - 22s 158ms/step - loss: 0.0059 - val_loss: 0.0061\n",
            "Epoch 60/200\n",
            "138/138 [==============================] - 22s 157ms/step - loss: 0.0059 - val_loss: 0.0060\n",
            "Epoch 61/200\n",
            "138/138 [==============================] - 22s 157ms/step - loss: 0.0059 - val_loss: 0.0059\n",
            "Epoch 62/200\n",
            "138/138 [==============================] - 22s 158ms/step - loss: 0.0058 - val_loss: 0.0059\n",
            "Epoch 63/200\n",
            "138/138 [==============================] - 22s 158ms/step - loss: 0.0058 - val_loss: 0.0059\n",
            "Epoch 64/200\n",
            "138/138 [==============================] - 22s 158ms/step - loss: 0.0059 - val_loss: 0.0059\n",
            "Epoch 65/200\n",
            "138/138 [==============================] - 22s 158ms/step - loss: 0.0058 - val_loss: 0.0059\n",
            "Epoch 66/200\n",
            "138/138 [==============================] - 22s 157ms/step - loss: 0.0059 - val_loss: 0.0059\n",
            "Epoch 67/200\n",
            "138/138 [==============================] - 21s 156ms/step - loss: 0.0058 - val_loss: 0.0059\n",
            "Epoch 68/200\n",
            "138/138 [==============================] - 21s 156ms/step - loss: 0.0058 - val_loss: 0.0060\n",
            "Epoch 69/200\n",
            "138/138 [==============================] - 21s 156ms/step - loss: 0.0058 - val_loss: 0.0058\n",
            "Epoch 70/200\n",
            "138/138 [==============================] - 22s 156ms/step - loss: 0.0057 - val_loss: 0.0060\n",
            "Epoch 71/200\n",
            "138/138 [==============================] - 22s 156ms/step - loss: 0.0058 - val_loss: 0.0058\n",
            "Epoch 72/200\n",
            "138/138 [==============================] - 22s 156ms/step - loss: 0.0058 - val_loss: 0.0060\n",
            "Epoch 73/200\n",
            "138/138 [==============================] - 22s 157ms/step - loss: 0.0057 - val_loss: 0.0058\n",
            "Epoch 74/200\n",
            "138/138 [==============================] - 22s 157ms/step - loss: 0.0057 - val_loss: 0.0058\n",
            "Epoch 75/200\n",
            "138/138 [==============================] - 22s 156ms/step - loss: 0.0058 - val_loss: 0.0060\n",
            "Epoch 76/200\n",
            "138/138 [==============================] - 22s 157ms/step - loss: 0.0058 - val_loss: 0.0058\n",
            "Epoch 77/200\n",
            "138/138 [==============================] - 21s 155ms/step - loss: 0.0057 - val_loss: 0.0058\n",
            "Epoch 78/200\n",
            "138/138 [==============================] - 21s 155ms/step - loss: 0.0056 - val_loss: 0.0057\n",
            "Epoch 79/200\n",
            "138/138 [==============================] - 21s 155ms/step - loss: 0.0057 - val_loss: 0.0057\n",
            "Epoch 80/200\n",
            "138/138 [==============================] - 21s 154ms/step - loss: 0.0056 - val_loss: 0.0057\n",
            "Epoch 81/200\n",
            "138/138 [==============================] - 21s 155ms/step - loss: 0.0056 - val_loss: 0.0059\n",
            "Epoch 82/200\n",
            "138/138 [==============================] - 21s 155ms/step - loss: 0.0057 - val_loss: 0.0057\n",
            "Epoch 83/200\n",
            "138/138 [==============================] - 21s 155ms/step - loss: 0.0056 - val_loss: 0.0057\n",
            "Epoch 84/200\n",
            "138/138 [==============================] - 21s 154ms/step - loss: 0.0056 - val_loss: 0.0057\n",
            "Epoch 85/200\n",
            "138/138 [==============================] - 21s 154ms/step - loss: 0.0056 - val_loss: 0.0057\n",
            "Epoch 86/200\n",
            "138/138 [==============================] - 21s 152ms/step - loss: 0.0056 - val_loss: 0.0056\n",
            "Epoch 87/200\n",
            "138/138 [==============================] - 21s 153ms/step - loss: 0.0055 - val_loss: 0.0057\n",
            "Epoch 88/200\n",
            "138/138 [==============================] - 21s 153ms/step - loss: 0.0056 - val_loss: 0.0057\n",
            "Epoch 89/200\n",
            "138/138 [==============================] - 21s 154ms/step - loss: 0.0055 - val_loss: 0.0056\n",
            "Epoch 90/200\n",
            "138/138 [==============================] - 21s 153ms/step - loss: 0.0056 - val_loss: 0.0057\n",
            "Epoch 91/200\n",
            "138/138 [==============================] - 21s 153ms/step - loss: 0.0055 - val_loss: 0.0056\n",
            "Epoch 92/200\n",
            "138/138 [==============================] - 21s 154ms/step - loss: 0.0055 - val_loss: 0.0056\n",
            "Epoch 93/200\n",
            "138/138 [==============================] - 21s 154ms/step - loss: 0.0056 - val_loss: 0.0056\n",
            "Epoch 94/200\n",
            "138/138 [==============================] - 21s 153ms/step - loss: 0.0055 - val_loss: 0.0056\n",
            "Epoch 95/200\n",
            "138/138 [==============================] - 21s 152ms/step - loss: 0.0055 - val_loss: 0.0058\n",
            "Epoch 96/200\n",
            "138/138 [==============================] - 21s 154ms/step - loss: 0.0057 - val_loss: 0.0056\n",
            "Epoch 97/200\n",
            "138/138 [==============================] - 21s 153ms/step - loss: 0.0055 - val_loss: 0.0056\n",
            "Epoch 98/200\n",
            "138/138 [==============================] - 21s 154ms/step - loss: 0.0054 - val_loss: 0.0056\n",
            "Epoch 99/200\n",
            "138/138 [==============================] - 21s 154ms/step - loss: 0.0055 - val_loss: 0.0055\n",
            "Epoch 100/200\n",
            "138/138 [==============================] - 21s 154ms/step - loss: 0.0054 - val_loss: 0.0056\n",
            "Epoch 101/200\n",
            "138/138 [==============================] - 21s 154ms/step - loss: 0.0055 - val_loss: 0.0056\n",
            "Epoch 102/200\n",
            "138/138 [==============================] - 21s 154ms/step - loss: 0.0054 - val_loss: 0.0055\n",
            "Epoch 103/200\n",
            "138/138 [==============================] - 21s 154ms/step - loss: 0.0055 - val_loss: 0.0055\n",
            "Epoch 104/200\n",
            "138/138 [==============================] - 21s 155ms/step - loss: 0.0055 - val_loss: 0.0056\n",
            "Epoch 105/200\n",
            "138/138 [==============================] - 21s 155ms/step - loss: 0.0055 - val_loss: 0.0055\n",
            "Epoch 106/200\n",
            "138/138 [==============================] - 21s 154ms/step - loss: 0.0055 - val_loss: 0.0055\n",
            "Epoch 107/200\n",
            "138/138 [==============================] - 21s 155ms/step - loss: 0.0053 - val_loss: 0.0055\n",
            "Epoch 108/200\n",
            "138/138 [==============================] - 21s 155ms/step - loss: 0.0054 - val_loss: 0.0055\n",
            "Epoch 109/200\n",
            "138/138 [==============================] - 21s 154ms/step - loss: 0.0054 - val_loss: 0.0055\n",
            "Epoch 110/200\n",
            "138/138 [==============================] - 21s 154ms/step - loss: 0.0054 - val_loss: 0.0055\n",
            "Epoch 111/200\n",
            "138/138 [==============================] - 21s 154ms/step - loss: 0.0054 - val_loss: 0.0054\n",
            "Epoch 112/200\n",
            "138/138 [==============================] - 21s 155ms/step - loss: 0.0054 - val_loss: 0.0055\n",
            "Epoch 113/200\n",
            "138/138 [==============================] - 21s 154ms/step - loss: 0.0054 - val_loss: 0.0054\n",
            "Epoch 114/200\n",
            "138/138 [==============================] - 21s 154ms/step - loss: 0.0053 - val_loss: 0.0054\n",
            "Epoch 115/200\n",
            "138/138 [==============================] - 21s 154ms/step - loss: 0.0054 - val_loss: 0.0055\n",
            "Epoch 116/200\n",
            "138/138 [==============================] - 21s 155ms/step - loss: 0.0054 - val_loss: 0.0054\n",
            "Epoch 117/200\n",
            "138/138 [==============================] - 21s 154ms/step - loss: 0.0053 - val_loss: 0.0054\n",
            "Epoch 118/200\n",
            "138/138 [==============================] - 21s 155ms/step - loss: 0.0054 - val_loss: 0.0054\n",
            "Epoch 119/200\n",
            "138/138 [==============================] - 21s 155ms/step - loss: 0.0053 - val_loss: 0.0054\n",
            "Epoch 120/200\n",
            "138/138 [==============================] - 21s 155ms/step - loss: 0.0053 - val_loss: 0.0054\n",
            "Epoch 121/200\n",
            "138/138 [==============================] - 21s 155ms/step - loss: 0.0053 - val_loss: 0.0054\n",
            "Epoch 122/200\n",
            "138/138 [==============================] - 21s 156ms/step - loss: 0.0053 - val_loss: 0.0055\n",
            "Epoch 123/200\n",
            "138/138 [==============================] - 21s 156ms/step - loss: 0.0053 - val_loss: 0.0054\n",
            "Epoch 124/200\n",
            "138/138 [==============================] - 22s 156ms/step - loss: 0.0052 - val_loss: 0.0054\n",
            "Epoch 125/200\n",
            "138/138 [==============================] - 22s 157ms/step - loss: 0.0053 - val_loss: 0.0055\n",
            "Epoch 126/200\n",
            "138/138 [==============================] - 22s 157ms/step - loss: 0.0053 - val_loss: 0.0054\n",
            "Epoch 127/200\n",
            "138/138 [==============================] - 22s 156ms/step - loss: 0.0053 - val_loss: 0.0053\n",
            "Epoch 128/200\n",
            "138/138 [==============================] - 22s 157ms/step - loss: 0.0053 - val_loss: 0.0054\n",
            "Epoch 129/200\n",
            "138/138 [==============================] - 22s 157ms/step - loss: 0.0053 - val_loss: 0.0053\n",
            "Epoch 130/200\n",
            "138/138 [==============================] - 22s 158ms/step - loss: 0.0052 - val_loss: 0.0053\n",
            "Epoch 131/200\n",
            "138/138 [==============================] - 22s 158ms/step - loss: 0.0052 - val_loss: 0.0053\n",
            "Epoch 132/200\n",
            "138/138 [==============================] - 22s 158ms/step - loss: 0.0052 - val_loss: 0.0054\n",
            "Epoch 133/200\n",
            "138/138 [==============================] - 22s 157ms/step - loss: 0.0052 - val_loss: 0.0054\n",
            "Epoch 134/200\n",
            "138/138 [==============================] - 22s 158ms/step - loss: 0.0052 - val_loss: 0.0053\n",
            "Epoch 135/200\n",
            "138/138 [==============================] - 22s 157ms/step - loss: 0.0051 - val_loss: 0.0053\n",
            "Epoch 136/200\n",
            "138/138 [==============================] - 22s 157ms/step - loss: 0.0051 - val_loss: 0.0054\n",
            "Epoch 137/200\n",
            "138/138 [==============================] - 22s 158ms/step - loss: 0.0052 - val_loss: 0.0053\n",
            "Epoch 138/200\n",
            "138/138 [==============================] - 22s 158ms/step - loss: 0.0051 - val_loss: 0.0053\n",
            "Epoch 139/200\n",
            "138/138 [==============================] - 22s 158ms/step - loss: 0.0052 - val_loss: 0.0053\n",
            "Epoch 140/200\n",
            "138/138 [==============================] - 22s 158ms/step - loss: 0.0051 - val_loss: 0.0053\n",
            "Epoch 141/200\n",
            "138/138 [==============================] - 22s 157ms/step - loss: 0.0052 - val_loss: 0.0053\n",
            "Epoch 142/200\n",
            "138/138 [==============================] - 22s 158ms/step - loss: 0.0051 - val_loss: 0.0053\n",
            "Epoch 143/200\n",
            "138/138 [==============================] - 22s 157ms/step - loss: 0.0051 - val_loss: 0.0052\n",
            "Epoch 144/200\n",
            "138/138 [==============================] - 21s 156ms/step - loss: 0.0052 - val_loss: 0.0053\n",
            "Epoch 145/200\n",
            "138/138 [==============================] - 22s 157ms/step - loss: 0.0051 - val_loss: 0.0052\n",
            "Epoch 146/200\n",
            "138/138 [==============================] - 22s 157ms/step - loss: 0.0051 - val_loss: 0.0052\n",
            "Epoch 147/200\n",
            "138/138 [==============================] - 22s 157ms/step - loss: 0.0051 - val_loss: 0.0053\n",
            "Epoch 148/200\n",
            "138/138 [==============================] - 22s 156ms/step - loss: 0.0051 - val_loss: 0.0053\n",
            "Epoch 149/200\n",
            "138/138 [==============================] - 22s 157ms/step - loss: 0.0051 - val_loss: 0.0053\n",
            "Epoch 150/200\n",
            "138/138 [==============================] - 22s 157ms/step - loss: 0.0051 - val_loss: 0.0053\n",
            "Epoch 151/200\n",
            "138/138 [==============================] - 22s 157ms/step - loss: 0.0051 - val_loss: 0.0052\n",
            "Epoch 152/200\n",
            "138/138 [==============================] - 22s 157ms/step - loss: 0.0050 - val_loss: 0.0052\n",
            "Epoch 153/200\n",
            "138/138 [==============================] - 22s 157ms/step - loss: 0.0051 - val_loss: 0.0052\n",
            "Epoch 154/200\n",
            "138/138 [==============================] - 22s 157ms/step - loss: 0.0051 - val_loss: 0.0052\n",
            "Epoch 155/200\n",
            "138/138 [==============================] - 21s 156ms/step - loss: 0.0050 - val_loss: 0.0052\n",
            "Epoch 156/200\n",
            "138/138 [==============================] - 22s 156ms/step - loss: 0.0051 - val_loss: 0.0052\n",
            "Epoch 157/200\n",
            "138/138 [==============================] - 22s 159ms/step - loss: 0.0050 - val_loss: 0.0052\n",
            "Epoch 158/200\n",
            "138/138 [==============================] - 22s 159ms/step - loss: 0.0051 - val_loss: 0.0051\n",
            "Epoch 159/200\n",
            "138/138 [==============================] - 22s 160ms/step - loss: 0.0050 - val_loss: 0.0052\n",
            "Epoch 160/200\n",
            "138/138 [==============================] - 22s 159ms/step - loss: 0.0050 - val_loss: 0.0052\n",
            "Epoch 161/200\n",
            "138/138 [==============================] - 22s 159ms/step - loss: 0.0050 - val_loss: 0.0052\n",
            "Epoch 162/200\n",
            "138/138 [==============================] - 22s 159ms/step - loss: 0.0050 - val_loss: 0.0051\n",
            "Epoch 163/200\n",
            "138/138 [==============================] - 22s 160ms/step - loss: 0.0050 - val_loss: 0.0051\n",
            "Epoch 164/200\n",
            "138/138 [==============================] - 22s 160ms/step - loss: 0.0050 - val_loss: 0.0051\n",
            "Epoch 165/200\n",
            "138/138 [==============================] - 22s 159ms/step - loss: 0.0050 - val_loss: 0.0051\n",
            "Epoch 166/200\n",
            "138/138 [==============================] - 22s 159ms/step - loss: 0.0050 - val_loss: 0.0052\n",
            "Epoch 167/200\n",
            "138/138 [==============================] - 22s 159ms/step - loss: 0.0050 - val_loss: 0.0051\n",
            "Epoch 168/200\n",
            "138/138 [==============================] - 22s 159ms/step - loss: 0.0050 - val_loss: 0.0051\n",
            "Epoch 169/200\n",
            "138/138 [==============================] - 22s 159ms/step - loss: 0.0050 - val_loss: 0.0051\n",
            "Epoch 170/200\n",
            "138/138 [==============================] - 22s 160ms/step - loss: 0.0050 - val_loss: 0.0051\n",
            "Epoch 171/200\n",
            "138/138 [==============================] - 22s 160ms/step - loss: 0.0050 - val_loss: 0.0051\n",
            "Epoch 172/200\n",
            "138/138 [==============================] - 22s 160ms/step - loss: 0.0050 - val_loss: 0.0051\n",
            "Epoch 173/200\n",
            "138/138 [==============================] - 22s 160ms/step - loss: 0.0049 - val_loss: 0.0052\n",
            "Epoch 174/200\n",
            "138/138 [==============================] - 22s 159ms/step - loss: 0.0050 - val_loss: 0.0051\n",
            "Epoch 175/200\n",
            "138/138 [==============================] - 22s 159ms/step - loss: 0.0050 - val_loss: 0.0052\n",
            "Epoch 176/200\n",
            "138/138 [==============================] - 22s 160ms/step - loss: 0.0050 - val_loss: 0.0051\n",
            "Epoch 177/200\n",
            "138/138 [==============================] - 22s 160ms/step - loss: 0.0049 - val_loss: 0.0051\n",
            "Epoch 178/200\n",
            "138/138 [==============================] - 22s 159ms/step - loss: 0.0049 - val_loss: 0.0051\n",
            "Epoch 179/200\n",
            "138/138 [==============================] - 22s 160ms/step - loss: 0.0049 - val_loss: 0.0051\n",
            "Epoch 180/200\n",
            "138/138 [==============================] - 22s 159ms/step - loss: 0.0049 - val_loss: 0.0051\n",
            "Epoch 181/200\n",
            "138/138 [==============================] - 22s 160ms/step - loss: 0.0049 - val_loss: 0.0051\n",
            "Epoch 182/200\n",
            "138/138 [==============================] - 22s 159ms/step - loss: 0.0049 - val_loss: 0.0051\n",
            "Epoch 183/200\n",
            "138/138 [==============================] - 22s 160ms/step - loss: 0.0049 - val_loss: 0.0051\n",
            "Epoch 184/200\n",
            "138/138 [==============================] - 22s 160ms/step - loss: 0.0049 - val_loss: 0.0052\n",
            "Epoch 185/200\n",
            "138/138 [==============================] - 22s 160ms/step - loss: 0.0049 - val_loss: 0.0051\n",
            "Epoch 186/200\n",
            "138/138 [==============================] - 22s 158ms/step - loss: 0.0049 - val_loss: 0.0050\n",
            "Epoch 187/200\n",
            "138/138 [==============================] - 22s 157ms/step - loss: 0.0049 - val_loss: 0.0050\n",
            "Epoch 188/200\n",
            "138/138 [==============================] - 22s 160ms/step - loss: 0.0050 - val_loss: 0.0051\n",
            "Epoch 189/200\n",
            "138/138 [==============================] - 22s 161ms/step - loss: 0.0050 - val_loss: 0.0052\n",
            "Epoch 190/200\n",
            "138/138 [==============================] - 22s 161ms/step - loss: 0.0049 - val_loss: 0.0051\n",
            "Epoch 191/200\n",
            "138/138 [==============================] - 22s 160ms/step - loss: 0.0049 - val_loss: 0.0050\n",
            "Epoch 192/200\n",
            "138/138 [==============================] - 22s 161ms/step - loss: 0.0049 - val_loss: 0.0050\n",
            "Epoch 193/200\n",
            "138/138 [==============================] - 22s 160ms/step - loss: 0.0049 - val_loss: 0.0051\n",
            "Epoch 194/200\n",
            "138/138 [==============================] - 22s 160ms/step - loss: 0.0049 - val_loss: 0.0051\n",
            "Epoch 195/200\n",
            "138/138 [==============================] - 22s 160ms/step - loss: 0.0049 - val_loss: 0.0050\n",
            "Epoch 196/200\n",
            "138/138 [==============================] - 22s 162ms/step - loss: 0.0049 - val_loss: 0.0052\n",
            "Epoch 197/200\n",
            "138/138 [==============================] - 22s 161ms/step - loss: 0.0049 - val_loss: 0.0050\n",
            "Epoch 198/200\n",
            "138/138 [==============================] - 22s 161ms/step - loss: 0.0049 - val_loss: 0.0050\n",
            "Epoch 199/200\n",
            "138/138 [==============================] - 22s 161ms/step - loss: 0.0049 - val_loss: 0.0051\n",
            "Epoch 200/200\n",
            "138/138 [==============================] - 22s 161ms/step - loss: 0.0049 - val_loss: 0.0050\n"
          ],
          "name": "stdout"
        },
        {
          "output_type": "execute_result",
          "data": {
            "text/plain": [
              "<tensorflow.python.keras.callbacks.History at 0x7f7735ef5c10>"
            ]
          },
          "metadata": {
            "tags": []
          },
          "execution_count": 46
        }
      ]
    },
    {
      "cell_type": "code",
      "metadata": {
        "id": "qwVQsWrV6vde"
      },
      "source": [
        "compressed_img = encoder.predict(x_test)\n",
        "results = autoencoder.predict(x_test)"
      ],
      "execution_count": 47,
      "outputs": []
    },
    {
      "cell_type": "markdown",
      "metadata": {
        "id": "4fE2mRwWFCH-"
      },
      "source": [
        "Show images comparing original, reconstructed and compressed images"
      ]
    },
    {
      "cell_type": "code",
      "metadata": {
        "colab": {
          "base_uri": "https://localhost:8080/",
          "height": 233
        },
        "id": "Oiujn5yAeJJd",
        "outputId": "ab7be615-2693-4c4d-92e0-aa950c41462a"
      },
      "source": [
        "n = 10\n",
        "plt.figure()\n",
        "for i, k in enumerate(np.random.randint(1,len(results)+1,n)):\n",
        "    ax = plt.subplot(3, n, i + 1)\n",
        "    plt.imshow(x_test[k].reshape(45, 72))\n",
        "    plt.gray()\n",
        "    ax.get_xaxis().set_visible(False)\n",
        "    ax.get_yaxis().set_visible(False)\n",
        "    if i==0:\n",
        "      ax.get_yaxis().set_visible(True)\n",
        "      ax.set_ylabel('original')\n",
        "\n",
        "    ax = plt.subplot(3, n, i + 1 + n)\n",
        "    plt.imshow(results[k].reshape(45, 72))\n",
        "    plt.gray()\n",
        "    ax.get_xaxis().set_visible(False)\n",
        "    ax.get_yaxis().set_visible(False)\n",
        "    if i==0:\n",
        "      ax.get_yaxis().set_visible(True)\n",
        "      ax.set_ylabel('reconstructed')\n",
        "\n",
        "    ax = plt.subplot(3, n, i + 1 + n * 2)\n",
        "    plt.imshow(compressed_img[k].reshape(20, 32))\n",
        "    plt.gray()\n",
        "    ax.get_xaxis().set_visible(False)\n",
        "    ax.get_yaxis().set_visible(False)\n",
        "    if i==0:\n",
        "      ax.get_yaxis().set_visible(True)\n",
        "      ax.set_ylabel('compressed')\n",
        "plt.show()"
      ],
      "execution_count": 48,
      "outputs": [
        {
          "output_type": "display_data",
          "data": {
            "image/png": "[encoded data removed]",
            "text/plain": [
              "<Figure size 432x288 with 30 Axes>"
            ]
          },
          "metadata": {
            "tags": [],
            "needs_background": "light"
          }
        }
      ]
    },
    {
      "cell_type": "code",
      "metadata": {
        "colab": {
          "base_uri": "https://localhost:8080/"
        },
        "id": "g20pa19iTHqT",
        "outputId": "9836a0e5-0006-423d-d75c-6392e47eddb0"
      },
      "source": [
        "import tensorflow as tf\n",
        "print(\"original vs reconstructed\", np.mean(tf.image.ssim(x_test, results, max_val = np.max(results))))"
      ],
      "execution_count": 49,
      "outputs": [
        {
          "output_type": "stream",
          "text": [
            "original vs reconstructed 0.9340564\n"
          ],
          "name": "stdout"
        }
      ]
    },
    {
      "cell_type": "code",
      "metadata": {
        "id": "87t6jcY3UKKK"
      },
      "source": [
        "test_compress = encoder.predict(x_test).reshape(878,20,32)\n",
        "train_compress = encoder.predict(x_train).reshape(4385,20,32)"
      ],
      "execution_count": 59,
      "outputs": []
    },
    {
      "cell_type": "code",
      "metadata": {
        "colab": {
          "base_uri": "https://localhost:8080/"
        },
        "id": "tTb-Ba4WUq6Q",
        "outputId": "6d2b9fd0-34a4-4009-8197-974da6379cc1"
      },
      "source": [
        "print(test_compress.shape)\n",
        "print(train_compress.shape)"
      ],
      "execution_count": 60,
      "outputs": [
        {
          "output_type": "stream",
          "text": [
            "(878, 20, 32)\n",
            "(4385, 20, 32)\n"
          ],
          "name": "stdout"
        }
      ]
    },
    {
      "cell_type": "code",
      "metadata": {
        "id": "qldIPjWJU3PP"
      },
      "source": [
        "from sklearn.cluster import DBSCAN"
      ],
      "execution_count": 63,
      "outputs": []
    },
    {
      "cell_type": "code",
      "metadata": {
        "id": "dDWJ5-QjYhZd"
      },
      "source": [
        "def position(image):\n",
        "  rows, columns = image.shape\n",
        "  matrix = np.zeros((rows*columns, 3))\n",
        "  weight = np.zeros((rows*columns))\n",
        "  index = 0\n",
        "  for row in range(rows):\n",
        "    for column in range(columns):\n",
        "      matrix[index, 0] = column # x\n",
        "      matrix[index, 1] = row # y\n",
        "      weight[index] = image[row, column]\n",
        "      index += 1\n",
        "  \n",
        "  return matrix, weight\n",
        "\n",
        "      "
      ],
      "execution_count": 117,
      "outputs": []
    },
    {
      "cell_type": "code",
      "metadata": {
        "id": "AURlk4HMelDi"
      },
      "source": [
        "def cluster_to_pos(clustering, matrix):\n",
        "  # min_label = min(clustering)\n",
        "  # max_label = max(clustering)\n",
        "  # clusters = dict()\n",
        "  # for label in range(min_label, max_label + 1):\n",
        "  #   cluster[str(label)] =[i for i, e in enumerate(clustering) if e == label]\n",
        "\n",
        "  for i in range(len(clustering)):\n",
        "    matrix[i, 2] = clustering[i]\n",
        "  \n",
        "  return matrix\n",
        "\n"
      ],
      "execution_count": 147,
      "outputs": []
    },
    {
      "cell_type": "code",
      "metadata": {
        "id": "i-G2YPF5cVHB"
      },
      "source": [
        "def plot_compress_cluster(matrix):\n",
        "  color = ['blue', 'red', 'green', 'yellow', 'purple', 'brown']\n",
        "  min_label = int(min(matrix[:,2]))\n",
        "  max_label = int(max(matrix[:,2]))\n",
        "  print('min: ',min_label)\n",
        "  print('max: ',max_label)\n",
        "  \n",
        "  plt.figure()\n",
        "  plt.axis('off')\n",
        "  color_id = 0\n",
        "\n",
        "  image = np.zeros((20,32))\n",
        "  id = 0\n",
        "  for i in range(20):\n",
        "    for j in range(32):\n",
        "      image[i, j] = matrix[id,2]\n",
        "      id += 1\n",
        "\n",
        "\n",
        " \n",
        "  # for label in range(min_label, max_label + 1):\n",
        "  #   group =[i for i, e in enumerate(matrix[:,2]) if e == label]\n",
        "\n",
        "  #   plt.scatter(matrix[group, 0], matrix[group, 1], c = color[color_id])\n",
        "  #   # plt.imshow(matrix[i])\n",
        "  #   # plt.gray()\n",
        "  #   # ax.get_xaxis().set_visible(False)\n",
        "  #   # ax.get_yaxis().set_visible(False)\n",
        "  #   color_id +=1\n",
        "  \n",
        "  # plt.show()\n",
        "  return image\n",
        "  \n",
        "  \n",
        "    \n",
        "\n"
      ],
      "execution_count": 185,
      "outputs": []
    },
    {
      "cell_type": "code",
      "metadata": {
        "colab": {
          "base_uri": "https://localhost:8080/",
          "height": 173
        },
        "id": "_mkPGTIVmS1f",
        "outputId": "579cf2d8-cbc0-4535-c7f1-6e8f0d7dbae1"
      },
      "source": [
        "n = 3\n",
        "plt.figure()\n",
        "for i in range(n):\n",
        " \n",
        "    # original test\n",
        "    ax = plt.subplot(3, n, i + 1 )\n",
        "    plt.imshow(x_test[i].reshape(45,72))\n",
        "    plt.gray()\n",
        "    ax.get_xaxis().set_visible(False)\n",
        "    ax.get_yaxis().set_visible(False)\n",
        "    plt.tight_layout\n",
        "\n",
        "    # compress test\n",
        "    ax = plt.subplot(3, n, i + 1 + n)\n",
        "    plt.imshow(test_compress[i])\n",
        "    plt.gray()\n",
        "    ax.get_xaxis().set_visible(False)\n",
        "    ax.get_yaxis().set_visible(False)\n",
        "    plt.tight_layout\n",
        "\n",
        "\n",
        "   "
      ],
      "execution_count": 191,
      "outputs": [
        {
          "output_type": "display_data",
          "data": {
            "image/png": "[encoded data removed]",
            "text/plain": [
              "<Figure size 432x288 with 6 Axes>"
            ]
          },
          "metadata": {
            "tags": [],
            "needs_background": "light"
          }
        }
      ]
    },
    {
      "cell_type": "code",
      "metadata": {
        "colab": {
          "base_uri": "https://localhost:8080/",
          "height": 793
        },
        "id": "k0T4gvFZnFFw",
        "outputId": "69ebcda9-89be-4558-b5ba-0767905a39e2"
      },
      "source": [
        "n = 3\n",
        "for i in range(n):\n",
        "   \n",
        "   \n",
        "    matrix, weight = position(test_compress[i])\n",
        "    clustering = DBSCAN(eps=2, min_samples=12).fit(matrix[:,:2], sample_weight = weight)\n",
        "    region_matrix = cluster_to_pos(clustering.labels_, matrix)\n",
        "    image = plot_compress_cluster(region_matrix)\n",
        "    plt.imshow(image)\n",
        "    plt.gray()\n",
        "  "
      ],
      "execution_count": 199,
      "outputs": [
        {
          "output_type": "stream",
          "text": [
            "min:  -1\n",
            "max:  4\n",
            "min:  -1\n",
            "max:  2\n",
            "min:  -1\n",
            "max:  4\n"
          ],
          "name": "stdout"
        },
        {
          "output_type": "display_data",
          "data": {
            "image/png": "[encoded data removed]",
            "text/plain": [
              "<Figure size 432x288 with 1 Axes>"
            ]
          },
          "metadata": {
            "tags": [],
            "needs_background": "light"
          }
        },
        {
          "output_type": "display_data",
          "data": {
            "image/png": "[encoded data removed]",
            "text/plain": [
              "<Figure size 432x288 with 1 Axes>"
            ]
          },
          "metadata": {
            "tags": [],
            "needs_background": "light"
          }
        },
        {
          "output_type": "display_data",
          "data": {
            "image/png": "[encoded data removed]",
            "text/plain": [
              "<Figure size 432x288 with 1 Axes>"
            ]
          },
          "metadata": {
            "tags": [],
            "needs_background": "light"
          }
        }
      ]
    },
    {
      "cell_type": "code",
      "metadata": {
        "id": "G7yLSk4UwIaZ"
      },
      "source": [
        ""
      ],
      "execution_count": null,
      "outputs": []
    }
  ]
}